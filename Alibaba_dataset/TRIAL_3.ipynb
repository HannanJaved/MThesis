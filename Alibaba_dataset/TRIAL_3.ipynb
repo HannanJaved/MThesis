{
 "cells": [
  {
   "cell_type": "markdown",
   "metadata": {},
   "source": [
    "# Necessities"
   ]
  },
  {
   "cell_type": "code",
   "execution_count": 1,
   "metadata": {},
   "outputs": [],
   "source": [
    "# ------------------------------------------------------------------\n",
    "# Imports\n",
    "# ------------------------------------------------------------------\n",
    "# Basic data processing libraries\n",
    "import pandas as pd\n",
    "import numpy as np\n",
    "import os\n",
    "import torch\n",
    "\n",
    "# Graph data processing libraries\n",
    "import networkx as nx\n",
    "from torch_geometric.data import Data\n",
    "from torch_geometric.utils import from_networkx\n",
    "\n",
    "# Libraries for (G)NNs\n",
    "import torch.nn.functional as F\n",
    "from torch_geometric.nn import GCNConv\n",
    "\n",
    "from torch_geometric.nn import MessagePassing\n",
    "from torch_geometric.utils import add_self_loops, degree\n",
    "import torch.nn as nn\n",
    "\n",
    "# ------------------------------------------------------------------\n",
    "# Helper functions\n",
    "# ------------------------------------------------------------------\n",
    "def show_df_info(df):\n",
    "    print(df.info())\n",
    "    print('####### Repeat ####### \\n', df.duplicated().any())\n",
    "    print('####### Count ####### \\n', df.nunique())\n",
    "    print('####### Example ####### \\n',df.head())\n",
    "\n",
    "def label_statics(label_df, label_list):\n",
    "    print(\"####### nCount #######\")\n",
    "    for label in label_list:\n",
    "        print(label_df[label].value_counts())\n",
    "    print(\"####### nPercent #######\")\n",
    "    for label in label_list:\n",
    "        print(label_df[label].value_counts()/label_df.shape[0])\n",
    "\n",
    "# ------------------------------------------------------------------\n",
    "# Data stuff\n",
    "# ------------------------------------------------------------------\n",
    "base_path = os.getcwd()\n",
    "input_ali_data_path = os.path.join(base_path, \"input_ali_data\")\n",
    "\n",
    "# Load the data files\n",
    "user_labels_path = os.path.join(input_ali_data_path, \"user_labels.csv\")\n",
    "user_edges_path = os.path.join(input_ali_data_path, \"user_edge.csv\")\n",
    "\n",
    "# Create dataframes to store the information from the .csv files\n",
    "user_labels = pd.read_csv(user_labels_path)\n",
    "user_edges = pd.read_csv(user_edges_path)"
   ]
  },
  {
   "cell_type": "markdown",
   "metadata": {},
   "source": [
    "## Balancing the dataset"
   ]
  },
  {
   "cell_type": "code",
   "execution_count": 107,
   "metadata": {},
   "outputs": [
    {
     "name": "stdout",
     "output_type": "stream",
     "text": [
      "bin_age\n",
      "0    95375\n",
      "1    71583\n",
      "Name: count, dtype: int64\n",
      "71583\n"
     ]
    }
   ],
   "source": [
    "# Count the number of instances for each gender\n",
    "gender_counts = user_labels['gender'].value_counts()\n",
    "print(gender_counts)\n",
    "\n",
    "# Find the minimum count between the two genders\n",
    "min_count = min(gender_counts)\n",
    "print(min_count)\n",
    "\n",
    "# Sample an equal number of instances for each gender\n",
    "balanced_data = pd.concat([\n",
    "    user_labels[user_labels['gender'] == 1].sample(min_count),\n",
    "    user_labels[user_labels['gender'] == 0].sample(min_count)\n",
    "])\n",
    "\n",
    "# Reset the index of the balanced data\n",
    "balanced_data.reset_index(drop=True, inplace=True)\n",
    "\n",
    "# Update the user_labels dataframe with the balanced data\n",
    "filtered_user_labels = balanced_data\n"
   ]
  },
  {
   "cell_type": "code",
   "execution_count": 108,
   "metadata": {},
   "outputs": [
    {
     "name": "stdout",
     "output_type": "stream",
     "text": [
      "           uid  gender  age  buy  student  city  bin_age  bin_buy\n",
      "0       156829       0    2    1        1     0        1        1\n",
      "1        87623       1    2    0        1     0        1        0\n",
      "2        21014       0    1    1        1     0        1        1\n",
      "3        60909       0    3    1        1     2        1        1\n",
      "4        60957       1    3    1        1     1        1        1\n",
      "...        ...     ...  ...  ...      ...   ...      ...      ...\n",
      "143161   56205       1    0    1        0     0        0        1\n",
      "143162  144496       0    0    1        1     0        0        1\n",
      "143163   38241       0    4    1        1     0        0        1\n",
      "143164   85503       1    0    0        1     3        0        0\n",
      "143165  158306       0    0    0        1     3        0        0\n",
      "\n",
      "[143166 rows x 8 columns]\n"
     ]
    }
   ],
   "source": [
    "print(balanced_data)"
   ]
  },
  {
   "cell_type": "code",
   "execution_count": 3,
   "metadata": {},
   "outputs": [
    {
     "name": "stdout",
     "output_type": "stream",
     "text": [
      "<class 'pandas.core.frame.DataFrame'>\n",
      "RangeIndex: 84384 entries, 0 to 84383\n",
      "Data columns (total 8 columns):\n",
      " #   Column   Non-Null Count  Dtype\n",
      "---  ------   --------------  -----\n",
      " 0   uid      84384 non-null  int64\n",
      " 1   gender   84384 non-null  int64\n",
      " 2   age      84384 non-null  int64\n",
      " 3   buy      84384 non-null  int64\n",
      " 4   student  84384 non-null  int64\n",
      " 5   city     84384 non-null  int64\n",
      " 6   bin_age  84384 non-null  int64\n",
      " 7   bin_buy  84384 non-null  int64\n",
      "dtypes: int64(8)\n",
      "memory usage: 5.2 MB\n",
      "None\n",
      "####### Repeat ####### \n",
      " False\n",
      "####### Count ####### \n",
      " uid        84384\n",
      "gender         2\n",
      "age            7\n",
      "buy            3\n",
      "student        2\n",
      "city           4\n",
      "bin_age        2\n",
      "bin_buy        2\n",
      "dtype: int64\n",
      "####### Example ####### \n",
      "       uid  gender  age  buy  student  city  bin_age  bin_buy\n",
      "0   75862       1    2    1        1     0        1        1\n",
      "1  147011       1    4    1        1     0        0        1\n",
      "2   94599       1    0    1        1     0        0        1\n",
      "3   63085       1    4    0        1     0        0        0\n",
      "4    4048       1    4    1        1     0        0        1\n"
     ]
    }
   ],
   "source": [
    "show_df_info(filtered_user_labels)"
   ]
  },
  {
   "cell_type": "code",
   "execution_count": 4,
   "metadata": {},
   "outputs": [
    {
     "name": "stdout",
     "output_type": "stream",
     "text": [
      "####### nCount #######\n",
      "gender\n",
      "1    42192\n",
      "0    42192\n",
      "Name: count, dtype: int64\n",
      "age\n",
      "4    25242\n",
      "3    20932\n",
      "0    16695\n",
      "2    16263\n",
      "5     3657\n",
      "1     1563\n",
      "6       32\n",
      "Name: count, dtype: int64\n",
      "buy\n",
      "1    51060\n",
      "0    26334\n",
      "2     6990\n",
      "Name: count, dtype: int64\n",
      "student\n",
      "1    79101\n",
      "0     5283\n",
      "Name: count, dtype: int64\n",
      "city\n",
      "0    37372\n",
      "3    20593\n",
      "2    17525\n",
      "1     8894\n",
      "Name: count, dtype: int64\n",
      "bin_age\n",
      "0    45626\n",
      "1    38758\n",
      "Name: count, dtype: int64\n",
      "bin_buy\n",
      "1    58050\n",
      "0    26334\n",
      "Name: count, dtype: int64\n",
      "####### nPercent #######\n",
      "gender\n",
      "1    0.5\n",
      "0    0.5\n",
      "Name: count, dtype: float64\n",
      "age\n",
      "4    0.299133\n",
      "3    0.248057\n",
      "0    0.197846\n",
      "2    0.192726\n",
      "5    0.043338\n",
      "1    0.018522\n",
      "6    0.000379\n",
      "Name: count, dtype: float64\n",
      "buy\n",
      "1    0.605091\n",
      "0    0.312073\n",
      "2    0.082836\n",
      "Name: count, dtype: float64\n",
      "student\n",
      "1    0.937393\n",
      "0    0.062607\n",
      "Name: count, dtype: float64\n",
      "city\n",
      "0    0.442880\n",
      "3    0.244039\n",
      "2    0.207682\n",
      "1    0.105399\n",
      "Name: count, dtype: float64\n",
      "bin_age\n",
      "0    0.540695\n",
      "1    0.459305\n",
      "Name: count, dtype: float64\n",
      "bin_buy\n",
      "1    0.687927\n",
      "0    0.312073\n",
      "Name: count, dtype: float64\n"
     ]
    }
   ],
   "source": [
    "label_statics(filtered_user_labels, filtered_user_labels.columns[1:])"
   ]
  },
  {
   "cell_type": "code",
   "execution_count": 60,
   "metadata": {},
   "outputs": [
    {
     "data": {
      "text/html": [
       "<div>\n",
       "<style scoped>\n",
       "    .dataframe tbody tr th:only-of-type {\n",
       "        vertical-align: middle;\n",
       "    }\n",
       "\n",
       "    .dataframe tbody tr th {\n",
       "        vertical-align: top;\n",
       "    }\n",
       "\n",
       "    .dataframe thead th {\n",
       "        text-align: right;\n",
       "    }\n",
       "</style>\n",
       "<table border=\"1\" class=\"dataframe\">\n",
       "  <thead>\n",
       "    <tr style=\"text-align: right;\">\n",
       "      <th></th>\n",
       "      <th>uid1</th>\n",
       "      <th>uid2</th>\n",
       "    </tr>\n",
       "  </thead>\n",
       "  <tbody>\n",
       "    <tr>\n",
       "      <th>0</th>\n",
       "      <td>118017</td>\n",
       "      <td>118017</td>\n",
       "    </tr>\n",
       "    <tr>\n",
       "      <th>1</th>\n",
       "      <td>118017</td>\n",
       "      <td>42978</td>\n",
       "    </tr>\n",
       "    <tr>\n",
       "      <th>2</th>\n",
       "      <td>118017</td>\n",
       "      <td>6673</td>\n",
       "    </tr>\n",
       "    <tr>\n",
       "      <th>3</th>\n",
       "      <td>118017</td>\n",
       "      <td>33244</td>\n",
       "    </tr>\n",
       "    <tr>\n",
       "      <th>4</th>\n",
       "      <td>118017</td>\n",
       "      <td>42163</td>\n",
       "    </tr>\n",
       "    <tr>\n",
       "      <th>...</th>\n",
       "      <td>...</td>\n",
       "      <td>...</td>\n",
       "    </tr>\n",
       "    <tr>\n",
       "      <th>29061401</th>\n",
       "      <td>110307</td>\n",
       "      <td>138408</td>\n",
       "    </tr>\n",
       "    <tr>\n",
       "      <th>29061402</th>\n",
       "      <td>110307</td>\n",
       "      <td>4433</td>\n",
       "    </tr>\n",
       "    <tr>\n",
       "      <th>29061403</th>\n",
       "      <td>110307</td>\n",
       "      <td>33589</td>\n",
       "    </tr>\n",
       "    <tr>\n",
       "      <th>29061404</th>\n",
       "      <td>151118</td>\n",
       "      <td>62924</td>\n",
       "    </tr>\n",
       "    <tr>\n",
       "      <th>29061405</th>\n",
       "      <td>62924</td>\n",
       "      <td>151118</td>\n",
       "    </tr>\n",
       "  </tbody>\n",
       "</table>\n",
       "<p>29061406 rows × 2 columns</p>\n",
       "</div>"
      ],
      "text/plain": [
       "            uid1    uid2\n",
       "0         118017  118017\n",
       "1         118017   42978\n",
       "2         118017    6673\n",
       "3         118017   33244\n",
       "4         118017   42163\n",
       "...          ...     ...\n",
       "29061401  110307  138408\n",
       "29061402  110307    4433\n",
       "29061403  110307   33589\n",
       "29061404  151118   62924\n",
       "29061405   62924  151118\n",
       "\n",
       "[29061406 rows x 2 columns]"
      ]
     },
     "execution_count": 60,
     "metadata": {},
     "output_type": "execute_result"
    }
   ],
   "source": [
    "user_edges"
   ]
  },
  {
   "cell_type": "code",
   "execution_count": 109,
   "metadata": {},
   "outputs": [
    {
     "data": {
      "text/plain": [
       "tensor([[118017, 118017, 118017,  ..., 110307, 110307, 110307],\n",
       "        [118017,  42978,   6673,  ..., 138408,   4433,  33589]])"
      ]
     },
     "execution_count": 109,
     "metadata": {},
     "output_type": "execute_result"
    }
   ],
   "source": [
    "# Filter the edges based on the remaining nodes in user_labels\n",
    "filtered_edges = user_edges[(user_edges['uid1'].isin(filtered_user_labels.index)) & (user_edges['uid2'].isin(filtered_user_labels.index))]\n",
    "filtered_edges = filtered_edges.reset_index(drop=True)\n",
    "\n",
    "# Update the edge_index variable with the filtered edges\n",
    "edge_index = torch.tensor(filtered_edges.values, dtype=torch.long).t().contiguous()\n",
    "edge_index"
   ]
  },
  {
   "cell_type": "markdown",
   "metadata": {},
   "source": [
    "## Continue Data Prep"
   ]
  },
  {
   "cell_type": "code",
   "execution_count": 2,
   "metadata": {},
   "outputs": [],
   "source": [
    "# Prepare the data for GNNs\n",
    "node_features = torch.tensor(user_labels.iloc[:, 1:].values, dtype=torch.float)\n",
    "edge_index = torch.tensor(user_edges.values, dtype=torch.long).t().contiguous()\n",
    "\n",
    "# node_features = torch.tensor(filtered_user_labels.iloc[:, 1:].values, dtype=torch.float)\n",
    "# edge_index = torch.tensor(filtered_edges.values, dtype=torch.long).t().contiguous()\n",
    "\n",
    "# Create torch-geometric data\n",
    "data = Data(x=node_features, edge_index=edge_index)\n",
    "\n",
    "num_nodes = node_features.size(0)\n",
    "num_classes = 2 # Binarised gender values from the data\n",
    "num_node_features = data.num_node_features\n",
    "\n",
    "# Create masks for training, and testing\n",
    "train_mask = torch.zeros(num_nodes, dtype=torch.bool)\n",
    "test_mask = torch.zeros(num_nodes, dtype=torch.bool)\n",
    "\n",
    "# 80 - 20 Train and Test data split\n",
    "num_train = int(num_nodes * 0.9)\n",
    "train_mask[:num_train] = True\n",
    "test_mask[num_train:] = True\n",
    "\n",
    "data.train_mask = train_mask\n",
    "data.test_mask = test_mask\n",
    "\n",
    "# Labels from the data (in this case: Gender Classification)\n",
    "data.y = torch.tensor(user_labels['gender'].values, dtype=torch.long)\n",
    "# data.y = torch.tensor(filtered_user_labels['gender'].values, dtype=torch.long)\n",
    "# data.y = torch.tensor(filtered_user_labels['bin_age'].values, dtype=torch.long)"
   ]
  },
  {
   "cell_type": "code",
   "execution_count": 3,
   "metadata": {},
   "outputs": [
    {
     "name": "stdout",
     "output_type": "stream",
     "text": [
      "Data(x=[166958, 7], edge_index=[2, 29061406], train_mask=[166958], test_mask=[166958], y=[166958]) 166958 torch.Size([166958]) torch.Size([166958])\n"
     ]
    }
   ],
   "source": [
    "print(data, num_nodes, train_mask.size(), test_mask.size())"
   ]
  },
  {
   "cell_type": "markdown",
   "metadata": {},
   "source": [
    "# Loss Functions"
   ]
  },
  {
   "cell_type": "code",
   "execution_count": 3,
   "metadata": {},
   "outputs": [],
   "source": [
    "def fairness_aware_loss(output, data, sensitive_attr, alpha=0, beta=0, gamma=0, delta=0):\n",
    "    target = data.y[data.train_mask]\n",
    "    standard_loss = F.cross_entropy(output, target)\n",
    "\n",
    "    labels = data.y[train_mask]\n",
    "    pos_prob = torch.sigmoid(output[:, 1])\n",
    "    neg_prob = 1 - pos_prob\n",
    "    predictions = output.argmax(dim=1)\n",
    "\n",
    "    # Statistical Parity Regularization\n",
    "    sp_reg = torch.abs(pos_prob[sensitive_attr == 1].mean() - pos_prob[sensitive_attr == 0].mean())\n",
    "\n",
    "    # Calculating FPR and TPR for each group\n",
    "    fpr_group1 = ((predictions == 1) & (labels == 0) & (sensitive_attr == 1)).float().mean()\n",
    "    fpr_group0 = ((predictions == 1) & (labels == 0) & (sensitive_attr == 0)).float().mean()\n",
    "    tpr_group1 = ((predictions == 1) & (labels == 1) & (sensitive_attr == 1)).float().mean()\n",
    "    tpr_group0 = ((predictions == 1) & (labels == 1) & (sensitive_attr == 0)).float().mean()\n",
    "\n",
    "    # Difference in FPR and TPR between the two groups for Equalized Odds\n",
    "    fpr_diff = torch.abs(fpr_group1 - fpr_group0)\n",
    "    tpr_diff = torch.abs(tpr_group1 - tpr_group0)\n",
    "\n",
    "    # Combine FPR and TPR differences for Equalized Odds Regularization\n",
    "    equalized_odds_reg = fpr_diff + tpr_diff\n",
    "\n",
    "    # Treatment Equality Regularization\n",
    "    fp_diff = (neg_prob * (labels == 0) * (sensitive_attr == 1)).float().mean() - \\\n",
    "              (neg_prob * (labels == 0) * (sensitive_attr == 0)).float().mean()\n",
    "    fn_diff = (pos_prob * (labels == 1) * (sensitive_attr == 1)).float().mean() - \\\n",
    "              (pos_prob * (labels == 1) * (sensitive_attr == 0)).float().mean()\n",
    "    treatment_reg = torch.abs(fp_diff) + torch.abs(fn_diff)\n",
    "    # treatment_reg = torch.abs(fn_diff)\n",
    "\n",
    "    # fn_group_1 = ((predictions == 0) & (labels == 1) & (sensitive_attr == 1)).sum()\n",
    "    # fp_group_1 = ((predictions == 1) & (labels == 0) & (sensitive_attr == 1)).sum()\n",
    "\n",
    "    # fn_group_0 = ((predictions == 0) & (labels == 1) & (sensitive_attr == 0)).sum()\n",
    "    # fp_group_0 = ((predictions == 1) & (labels == 0) & (sensitive_attr == 0)).sum()\n",
    "    \n",
    "    # ratio_group_1 = fn_group_1 / fp_group_1 if fp_group_1 != 0 else torch.tensor(float('inf'))\n",
    "    # ratio_group_0 = fn_group_0 / fp_group_0 if fp_group_0 != 0 else torch.tensor(float('inf'))\n",
    "    # treatment_reg = torch.abs(ratio_group_1 - ratio_group_0)\n",
    "\n",
    "    # Equal Opportunity Difference Regularization\n",
    "    eod_reg = torch.abs((pos_prob * (labels == 1) * (sensitive_attr == 1)).float().mean() - \\\n",
    "                        (pos_prob * (labels == 1) * (sensitive_attr == 0)).float().mean())\n",
    "\n",
    "    # Overall Accuracy Equality Difference Regularization\n",
    "    oaed_reg = torch.abs((pos_prob * (sensitive_attr == 1)).float().mean() - \\\n",
    "                         (pos_prob * (sensitive_attr == 0)).float().mean())\n",
    "\n",
    "    penalty = alpha + beta + gamma + delta\n",
    "    \n",
    "    # Combine losses\n",
    "    combined_loss = (1-penalty)*standard_loss\n",
    "    + alpha * equalized_odds_reg\n",
    "    + beta * treatment_reg\n",
    "    + gamma * eod_reg\n",
    "    + delta * oaed_reg\n",
    "    \n",
    "    return combined_loss"
   ]
  },
  {
   "cell_type": "markdown",
   "metadata": {},
   "source": [
    "# Calculate Fairness"
   ]
  },
  {
   "cell_type": "code",
   "execution_count": 4,
   "metadata": {},
   "outputs": [],
   "source": [
    "def calculate_fairness(label, predictions, sens_attr='bin_age', balanced=False):\n",
    "    \"\"\"\n",
    "    Calculate various fairness metrics.\n",
    "\n",
    "    Args:\n",
    "    label: Actual labels (binary).\n",
    "    predictions: Model predictions (binary).\n",
    "    sens_attr: Binary sensitive attribute for fairness evaluation.\n",
    "\n",
    "    Returns:\n",
    "    A dictionary containing SPD, EOD, OAED, and TED values.\n",
    "    \"\"\"\n",
    "    if balanced is False:\n",
    "        labels = torch.tensor(user_labels[label].values, dtype=torch.long)\n",
    "        sensitive_attribute = torch.tensor(user_labels[sens_attr].values, dtype=torch.long)\n",
    "    else:\n",
    "        labels = torch.tensor(filtered_user_labels[label].values, dtype=torch.long)\n",
    "        sensitive_attribute = torch.tensor(filtered_user_labels[sens_attr].values, dtype=torch.long)\n",
    "\n",
    "    predictions = predictions.float()\n",
    "    labels = labels.float()\n",
    "    sensitive_attribute = sensitive_attribute.float()\n",
    "\n",
    "    def statistical_parity_difference():\n",
    "        prob_group_1 = predictions[sensitive_attribute == 1].mean()\n",
    "        prob_group_0 = predictions[sensitive_attribute == 0].mean()\n",
    "        return abs(prob_group_1 - prob_group_0), prob_group_0, prob_group_1\n",
    "\n",
    "    def equal_opportunity_difference():\n",
    "        tpr_group_1 = predictions[(labels == 1) & (sensitive_attribute == 1)].mean()\n",
    "        tpr_group_0 = predictions[(labels == 1) & (sensitive_attribute == 0)].mean()\n",
    "        return abs(tpr_group_1 - tpr_group_0), tpr_group_0, tpr_group_1\n",
    "\n",
    "    def overall_accuracy_equality_difference():\n",
    "        acc_group_1 = (predictions[sensitive_attribute == 1] == labels[sensitive_attribute == 1]).float().mean()\n",
    "        acc_group_0 = (predictions[sensitive_attribute == 0] == labels[sensitive_attribute == 0]).float().mean()\n",
    "        return abs(acc_group_1 - acc_group_0), acc_group_0, acc_group_1\n",
    "\n",
    "    def treatment_equality_difference():\n",
    "        fn_group_1 = ((predictions == 0) & (labels == 1) & (sensitive_attribute == 1)).sum()\n",
    "        fp_group_1 = ((predictions == 1) & (labels == 0) & (sensitive_attribute == 1)).sum()\n",
    "\n",
    "        fn_group_0 = ((predictions == 0) & (labels == 1) & (sensitive_attribute == 0)).sum()\n",
    "        fp_group_0 = ((predictions == 1) & (labels == 0) & (sensitive_attribute == 0)).sum()\n",
    "\n",
    "        ratio_group_1 = fn_group_1 / fp_group_1 if fp_group_1 != 0 else float('inf')\n",
    "        ratio_group_0 = fn_group_0 / fp_group_0 if fp_group_0 != 0 else float('inf')\n",
    "\n",
    "        return abs(ratio_group_1 - ratio_group_0), ratio_group_0, ratio_group_1, fn_group_1, fp_group_1, fn_group_0, fp_group_0\n",
    "\n",
    "    # Calculating each fairness metric\n",
    "    spd, sp_g0, sp_g1 = statistical_parity_difference()\n",
    "    eod, eod_g0, eod_g1 = equal_opportunity_difference()\n",
    "    oaed, oaed_g0, oaed_g1 = overall_accuracy_equality_difference()\n",
    "    ted, ted_g0, ted_g1, fn_group_1, fp_group_1, fn_group_0, fp_group_0 = treatment_equality_difference()\n",
    "\n",
    "    return {\n",
    "        'Statistical Parity Difference': spd,\n",
    "        'Statistical Parity Group with S=0': sp_g0,\n",
    "        'Statistical Parity Group S=1': sp_g1,\n",
    "        'Equal Opportunity Difference': eod,\n",
    "        'Equal Opportunity Group with S=0': eod_g0,\n",
    "        'Equal Opportunity Group S=1': eod_g1,\n",
    "        'Overall Accuracy Equality Difference': oaed,\n",
    "        'Overall Accuracy Group with S=0': oaed_g0,\n",
    "        'Overall Accuracy Group S=1': oaed_g1,\n",
    "        'Treatment Equality Difference': ted,\n",
    "        'Treatment Equality Group with S=0': ted_g0,\n",
    "        'Treatment Equality Group S=1': ted_g1,\n",
    "        'False Negatives Group 1': fn_group_1,\n",
    "        'False Positives Group 1': fp_group_1,\n",
    "        'False Negatives Group 0': fn_group_0,\n",
    "        'False Positives Group 0': fp_group_0\n",
    "    }"
   ]
  },
  {
   "cell_type": "markdown",
   "metadata": {},
   "source": [
    "# Helper functions"
   ]
  },
  {
   "cell_type": "code",
   "execution_count": 5,
   "metadata": {},
   "outputs": [],
   "source": [
    "# Train the model\n",
    "def training(model, data, optimizer, epochs, fairness=False, alpha=0, beta=0, gamma=0, delta=0):\n",
    "\n",
    "    for epoch in range(epochs):\n",
    "        model.train()\n",
    "        optimizer.zero_grad()\n",
    "        out = model(data.x, data.edge_index)\n",
    "        \n",
    "        if fairness:\n",
    "            loss = fairness_aware_loss(out[data.train_mask], data, data.x[data.train_mask, -1],\n",
    "                                       alpha=alpha, beta=beta, gamma=gamma, delta=delta)\n",
    "            \n",
    "        else:\n",
    "            # criterion = torch.nn.CrossEntropyLoss()\n",
    "            # criterion = torch.nn.BCELoss()\n",
    "            criterion = torch.nn.NLLLoss()\n",
    "            loss = criterion(out[data.train_mask], data.y[data.train_mask])\n",
    "\n",
    "        loss.backward()\n",
    "        optimizer.step()\n",
    "\n",
    "        if epoch % 10 == 0:\n",
    "            print(f'Epoch {epoch} | Loss: {loss.item()}')"
   ]
  },
  {
   "cell_type": "code",
   "execution_count": 6,
   "metadata": {},
   "outputs": [],
   "source": [
    "# Test the model\n",
    "def test(model, data, balanced=False):\n",
    "    model.eval()\n",
    "    with torch.inference_mode():\n",
    "      out = model(data.x, data.edge_index)\n",
    "\n",
    "    _, pred = model(data.x, data.edge_index).max(dim=1)\n",
    "    correct = int(pred[data.test_mask].eq(data.y[data.test_mask]).sum().item())\n",
    "    accuracy = correct / int(data.test_mask.sum())\n",
    "    # print(f'Accuracy: {accuracy}')\n",
    "\n",
    "    # Convert model outputs to binary predictions\n",
    "    predictions = out.argmax(dim=1)\n",
    "    # print(predictions[0:20])\n",
    "    # Fairness calculated for gender-classification task with bin_age as the sensitive attribute\n",
    "    fairness_metrics = calculate_fairness(label='gender', predictions=predictions, sens_attr='bin_age', balanced=balanced)\n",
    "    fairness_metrics['Accuracy'] = accuracy\n",
    "    # # Print the fairness metrics\n",
    "    # for metric, value in fairness_metrics.items():\n",
    "    #     print(f\"{metric}: {value}\")\n",
    "\n",
    "    return fairness_metrics\n"
   ]
  },
  {
   "cell_type": "code",
   "execution_count": 7,
   "metadata": {},
   "outputs": [],
   "source": [
    "def print_metrics(metrics):\n",
    "    count = -1\n",
    "\n",
    "    for key, value in metrics.items():\n",
    "        count += 1\n",
    "        if count == 3:\n",
    "            print(f\"\\n\\n{key} : {value:.5f}\")\n",
    "            count = 0\n",
    "        else:\n",
    "            print(f\"{key} : {value:.5f}\")"
   ]
  },
  {
   "cell_type": "markdown",
   "metadata": {},
   "source": [
    "# Test the Models"
   ]
  },
  {
   "cell_type": "markdown",
   "metadata": {},
   "source": [
    "## Baseline"
   ]
  },
  {
   "cell_type": "code",
   "execution_count": 8,
   "metadata": {},
   "outputs": [],
   "source": [
    "# GCN class that takes in the data as an input for dimensions of the convolutions\n",
    "class GCN(torch.nn.Module):\n",
    "    def __init__(self, x, edge_index):\n",
    "        super(GCN, self).__init__()\n",
    "        self.conv1 = GCNConv(data.num_node_features, 16)\n",
    "        self.conv2 = GCNConv(16, 2) # 2 output classes for gender\n",
    "\n",
    "    def forward(self, x, edge_index, *args, **kwargs):\n",
    "        x = F.relu(self.conv1(x, edge_index))\n",
    "        x = self.conv2(x, edge_index)\n",
    "        # x = F.softmax(x, dim=1)\n",
    "        # return x\n",
    "        return F.log_softmax(x, dim=1)"
   ]
  },
  {
   "cell_type": "code",
   "execution_count": 113,
   "metadata": {},
   "outputs": [],
   "source": [
    "# Instantiate the model, define loss function and optimizer\n",
    "gcn_model = GCN(data.x, data.edge_index)\n",
    "gcn_optimizer = torch.optim.Adam(gcn_model.parameters(), lr=0.01)"
   ]
  },
  {
   "cell_type": "code",
   "execution_count": 114,
   "metadata": {},
   "outputs": [
    {
     "name": "stdout",
     "output_type": "stream",
     "text": [
      "Epoch 0 | Loss: 0.6981701850891113\n",
      "Epoch 10 | Loss: 0.5374267101287842\n",
      "Epoch 20 | Loss: 0.5077751874923706\n",
      "Epoch 30 | Loss: 0.4764851927757263\n",
      "Epoch 40 | Loss: 0.4419891834259033\n"
     ]
    }
   ],
   "source": [
    "# Train the first model: GCN, standard data, NLL loss\n",
    "training(model=gcn_model, data=data, optimizer=gcn_optimizer, epochs=50)"
   ]
  },
  {
   "cell_type": "code",
   "execution_count": 132,
   "metadata": {},
   "outputs": [
    {
     "name": "stdout",
     "output_type": "stream",
     "text": [
      "Here are the values for the standard GCN model with the standard NLL loss: \n"
     ]
    },
    {
     "name": "stdout",
     "output_type": "stream",
     "text": [
      "Statistical Parity Difference : 0.04464\n",
      "Statistical Parity Group with S=0 : 0.11141\n",
      "Statistical Parity Group S=1 : 0.15606\n",
      "\n",
      "\n",
      "Equal Opportunity Difference : 0.05148\n",
      "Equal Opportunity Group with S=0 : 0.48409\n",
      "Equal Opportunity Group S=1 : 0.43262\n",
      "\n",
      "\n",
      "Overall Accuracy Equality Difference : 0.07956\n",
      "Overall Accuracy Group with S=0 : 0.88189\n",
      "Overall Accuracy Group S=1 : 0.80233\n",
      "\n",
      "\n",
      "Treatment Equality Difference : 3.68916\n",
      "Treatment Equality Group with S=0 : 11.48891\n",
      "Treatment Equality Group S=1 : 7.79975\n",
      "\n",
      "\n",
      "False Negatives Group 1 : 12542.00000\n",
      "False Positives Group 1 : 1608.00000\n",
      "False Negatives Group 0 : 10363.00000\n",
      "\n",
      "\n",
      "False Positives Group 0 : 902.00000\n",
      "Accuracy : 0.84505\n"
     ]
    }
   ],
   "source": [
    "# Test the first model: GCN, standard data, NLL loss\n",
    "print(\"Here are the values for the standard GCN model with the standard NLL loss: \")\n",
    "\n",
    "metrics_base_gcn_model = test(gcn_model, data)\n",
    "\n",
    "print_metrics(metrics_base_gcn_model)"
   ]
  },
  {
   "cell_type": "code",
   "execution_count": 115,
   "metadata": {},
   "outputs": [],
   "source": [
    "from torch_geometric.explain import Explainer, GNNExplainer\n",
    "\n",
    "explainer = Explainer(\n",
    "    model=gcn_model,\n",
    "    algorithm=GNNExplainer(epochs=100),\n",
    "    explanation_type='model',\n",
    "    node_mask_type='attributes',\n",
    "    edge_mask_type='object',\n",
    "    model_config=dict(\n",
    "        mode='multiclass_classification',\n",
    "        task_level='node',\n",
    "        return_type='log_probs', \n",
    "    ),\n",
    ")"
   ]
  },
  {
   "cell_type": "code",
   "execution_count": 116,
   "metadata": {},
   "outputs": [
    {
     "name": "stdout",
     "output_type": "stream",
     "text": [
      "tensor([0.2785, 0.2781, 0.2792,  ..., 0.2794, 0.2774, 0.2778])\n",
      "tensor([[0.0000, 0.0000, 0.0000,  ..., 0.0000, 0.0000, 0.0000],\n",
      "        [0.0000, 0.2881, 0.2857,  ..., 0.0000, 0.2824, 0.2882],\n",
      "        [0.0000, 0.2820, 0.2584,  ..., 0.0000, 0.2915, 0.2709],\n",
      "        ...,\n",
      "        [0.0000, 0.0000, 0.3012,  ..., 0.2736, 0.0000, 0.2844],\n",
      "        [0.0000, 0.2771, 0.2941,  ..., 0.2936, 0.0000, 0.2986],\n",
      "        [0.0000, 0.0000, 0.2736,  ..., 0.0000, 0.0000, 0.2572]])\n"
     ]
    }
   ],
   "source": [
    "explanation = explainer(data.x, edge_index)\n",
    "print(explanation.edge_mask)\n",
    "print(explanation.node_mask)"
   ]
  },
  {
   "cell_type": "code",
   "execution_count": 128,
   "metadata": {},
   "outputs": [
    {
     "data": {
      "text/html": [
       "<div>\n",
       "<style scoped>\n",
       "    .dataframe tbody tr th:only-of-type {\n",
       "        vertical-align: middle;\n",
       "    }\n",
       "\n",
       "    .dataframe tbody tr th {\n",
       "        vertical-align: top;\n",
       "    }\n",
       "\n",
       "    .dataframe thead th {\n",
       "        text-align: right;\n",
       "    }\n",
       "</style>\n",
       "<table border=\"1\" class=\"dataframe\">\n",
       "  <thead>\n",
       "    <tr style=\"text-align: right;\">\n",
       "      <th></th>\n",
       "      <th>uid</th>\n",
       "      <th>gender</th>\n",
       "      <th>age</th>\n",
       "      <th>buy</th>\n",
       "      <th>student</th>\n",
       "      <th>city</th>\n",
       "      <th>bin_age</th>\n",
       "      <th>bin_buy</th>\n",
       "    </tr>\n",
       "  </thead>\n",
       "  <tbody>\n",
       "    <tr>\n",
       "      <th>0</th>\n",
       "      <td>0</td>\n",
       "      <td>0</td>\n",
       "      <td>0</td>\n",
       "      <td>0</td>\n",
       "      <td>0</td>\n",
       "      <td>0</td>\n",
       "      <td>0</td>\n",
       "      <td>0</td>\n",
       "    </tr>\n",
       "    <tr>\n",
       "      <th>1</th>\n",
       "      <td>1</td>\n",
       "      <td>0</td>\n",
       "      <td>1</td>\n",
       "      <td>1</td>\n",
       "      <td>1</td>\n",
       "      <td>0</td>\n",
       "      <td>1</td>\n",
       "      <td>1</td>\n",
       "    </tr>\n",
       "    <tr>\n",
       "      <th>2</th>\n",
       "      <td>2</td>\n",
       "      <td>0</td>\n",
       "      <td>2</td>\n",
       "      <td>1</td>\n",
       "      <td>1</td>\n",
       "      <td>0</td>\n",
       "      <td>1</td>\n",
       "      <td>1</td>\n",
       "    </tr>\n",
       "    <tr>\n",
       "      <th>3</th>\n",
       "      <td>3</td>\n",
       "      <td>0</td>\n",
       "      <td>2</td>\n",
       "      <td>1</td>\n",
       "      <td>1</td>\n",
       "      <td>1</td>\n",
       "      <td>1</td>\n",
       "      <td>1</td>\n",
       "    </tr>\n",
       "    <tr>\n",
       "      <th>4</th>\n",
       "      <td>4</td>\n",
       "      <td>0</td>\n",
       "      <td>0</td>\n",
       "      <td>1</td>\n",
       "      <td>0</td>\n",
       "      <td>0</td>\n",
       "      <td>0</td>\n",
       "      <td>1</td>\n",
       "    </tr>\n",
       "    <tr>\n",
       "      <th>...</th>\n",
       "      <td>...</td>\n",
       "      <td>...</td>\n",
       "      <td>...</td>\n",
       "      <td>...</td>\n",
       "      <td>...</td>\n",
       "      <td>...</td>\n",
       "      <td>...</td>\n",
       "      <td>...</td>\n",
       "    </tr>\n",
       "    <tr>\n",
       "      <th>166953</th>\n",
       "      <td>166953</td>\n",
       "      <td>0</td>\n",
       "      <td>3</td>\n",
       "      <td>1</td>\n",
       "      <td>1</td>\n",
       "      <td>3</td>\n",
       "      <td>1</td>\n",
       "      <td>1</td>\n",
       "    </tr>\n",
       "    <tr>\n",
       "      <th>166954</th>\n",
       "      <td>166954</td>\n",
       "      <td>0</td>\n",
       "      <td>0</td>\n",
       "      <td>1</td>\n",
       "      <td>1</td>\n",
       "      <td>3</td>\n",
       "      <td>0</td>\n",
       "      <td>1</td>\n",
       "    </tr>\n",
       "    <tr>\n",
       "      <th>166955</th>\n",
       "      <td>166955</td>\n",
       "      <td>0</td>\n",
       "      <td>0</td>\n",
       "      <td>1</td>\n",
       "      <td>1</td>\n",
       "      <td>2</td>\n",
       "      <td>0</td>\n",
       "      <td>1</td>\n",
       "    </tr>\n",
       "    <tr>\n",
       "      <th>166956</th>\n",
       "      <td>166956</td>\n",
       "      <td>0</td>\n",
       "      <td>4</td>\n",
       "      <td>1</td>\n",
       "      <td>1</td>\n",
       "      <td>3</td>\n",
       "      <td>0</td>\n",
       "      <td>1</td>\n",
       "    </tr>\n",
       "    <tr>\n",
       "      <th>166957</th>\n",
       "      <td>166957</td>\n",
       "      <td>0</td>\n",
       "      <td>0</td>\n",
       "      <td>1</td>\n",
       "      <td>0</td>\n",
       "      <td>0</td>\n",
       "      <td>0</td>\n",
       "      <td>1</td>\n",
       "    </tr>\n",
       "  </tbody>\n",
       "</table>\n",
       "<p>166958 rows × 8 columns</p>\n",
       "</div>"
      ],
      "text/plain": [
       "           uid  gender  age  buy  student  city  bin_age  bin_buy\n",
       "0            0       0    0    0        0     0        0        0\n",
       "1            1       0    1    1        1     0        1        1\n",
       "2            2       0    2    1        1     0        1        1\n",
       "3            3       0    2    1        1     1        1        1\n",
       "4            4       0    0    1        0     0        0        1\n",
       "...        ...     ...  ...  ...      ...   ...      ...      ...\n",
       "166953  166953       0    3    1        1     3        1        1\n",
       "166954  166954       0    0    1        1     3        0        1\n",
       "166955  166955       0    0    1        1     2        0        1\n",
       "166956  166956       0    4    1        1     3        0        1\n",
       "166957  166957       0    0    1        0     0        0        1\n",
       "\n",
       "[166958 rows x 8 columns]"
      ]
     },
     "execution_count": 128,
     "metadata": {},
     "output_type": "execute_result"
    }
   ],
   "source": [
    "user_labels"
   ]
  },
  {
   "cell_type": "code",
   "execution_count": 133,
   "metadata": {},
   "outputs": [
    {
     "data": {
      "image/png": "[encoded data removed]",
      "text/plain": [
       "<Figure size 1000x700 with 1 Axes>"
      ]
     },
     "metadata": {},
     "output_type": "display_data"
    }
   ],
   "source": [
    "explanation.visualize_feature_importance(top_k=10)"
   ]
  },
  {
   "cell_type": "code",
   "execution_count": 8,
   "metadata": {},
   "outputs": [
    {
     "name": "stdout",
     "output_type": "stream",
     "text": [
      "Epoch 0 | Loss: 0.5969341397285461\n",
      "Epoch 10 | Loss: 0.5347746014595032\n",
      "Epoch 20 | Loss: 0.46956467628479004\n",
      "Epoch 30 | Loss: 0.42237937450408936\n",
      "Epoch 40 | Loss: 0.3920229971408844\n"
     ]
    }
   ],
   "source": [
    "# Train the first model: GCN, standard data, cross-entropy loss\n",
    "training(model=gcn_model, data=data, optimizer=gcn_optimizer, epochs=50)"
   ]
  },
  {
   "cell_type": "code",
   "execution_count": 39,
   "metadata": {},
   "outputs": [
    {
     "name": "stdout",
     "output_type": "stream",
     "text": [
      "Here are the values for the standard GCN model with the standard cross-entropy loss: \n",
      "Statistical Parity Difference : 0.04279\n",
      "Statistical Parity Group with S=0 : 0.13590\n",
      "Statistical Parity Group S=1 : 0.17869\n",
      "\n",
      "\n",
      "Equal Opportunity Difference : 0.08792\n",
      "Equal Opportunity Group with S=0 : 0.56215\n",
      "Equal Opportunity Group S=1 : 0.47424\n",
      "\n",
      "\n",
      "Overall Accuracy Equality Difference : 0.08489\n",
      "Overall Accuracy Group with S=0 : 0.89029\n",
      "Overall Accuracy Group S=1 : 0.80540\n",
      "\n",
      "\n",
      "Treatment Equality Difference : 0.23409\n",
      "Treatment Equality Group with S=0 : 5.26962\n",
      "Treatment Equality Group S=1 : 5.03553\n",
      "\n",
      "\n",
      "Accuracy : 0.85326\n"
     ]
    }
   ],
   "source": [
    "# Test the first model: GCN, standard data, cross-entropy loss\n",
    "print(\"Here are the values for the standard GCN model with the standard cross-entropy loss: \")\n",
    "\n",
    "metrics_base_gcn_model = test(gcn_model, data)\n",
    "\n",
    "print_metrics(metrics_base_gcn_model)"
   ]
  },
  {
   "cell_type": "markdown",
   "metadata": {},
   "source": [
    "## Fair Models"
   ]
  },
  {
   "cell_type": "code",
   "execution_count": 9,
   "metadata": {},
   "outputs": [],
   "source": [
    "from torch_scatter import scatter_add "
   ]
  },
  {
   "cell_type": "code",
   "execution_count": 13,
   "metadata": {},
   "outputs": [],
   "source": [
    "class FairnessAwareMessagePassingLayer(MessagePassing):\n",
    "    def __init__(self, in_channels, out_channels):\n",
    "        super(FairnessAwareMessagePassingLayer, self).__init__(aggr='mean')  \n",
    "        self.lin = nn.Linear(in_channels, out_channels)\n",
    "        self.a_fair = nn.Parameter(torch.rand(out_channels)) \n",
    "        self.sensitive_attr = torch.tensor(user_labels['bin_age'].values, dtype=torch.float) \n",
    "        self.bias_correction = nn.Parameter(torch.rand(1))\n",
    "\n",
    "    def forward(self, x, edge_index):\n",
    "        # Add self-loops \n",
    "        edge_index, _ = add_self_loops(edge_index, num_nodes=x.size(0))\n",
    "\n",
    "        x = self.lin(x)\n",
    "\n",
    "        return self.propagate(edge_index, size=(x.size(0), x.size(0)), x=x)\n",
    "    \n",
    "    def message(self, x_j, edge_index, size):\n",
    "        row, col = edge_index\n",
    "        deg = degree(row, size[0], dtype=x_j.dtype)\n",
    "        deg_inv_sqrt = deg.pow(-0.5)\n",
    "        norm = deg_inv_sqrt[row] * deg_inv_sqrt[col]\n",
    "\n",
    "        # Compute statistical parity difference for each edge\n",
    "        group_difference = self.sensitive_attr[row] - self.sensitive_attr[col]\n",
    "        \n",
    "        # Adjust messages based on statistical parity\n",
    "        fairness_adjustment = (1 + self.bias_correction * group_difference.view(-1, 1))\n",
    "\n",
    "        return fairness_adjustment * norm.view(-1, 1) * x_j\n",
    "\n",
    "    def update(self, aggr_out):\n",
    "        return aggr_out"
   ]
  },
  {
   "cell_type": "code",
   "execution_count": 11,
   "metadata": {},
   "outputs": [],
   "source": [
    "class custom_GCN(torch.nn.Module):\n",
    "    def __init__(self, data):\n",
    "        super(custom_GCN, self).__init__()\n",
    "        self.conv1 = FairnessAwareMessagePassingLayer(data.num_node_features, 16)\n",
    "        self.conv2 = FairnessAwareMessagePassingLayer(16, 2) # 2 output classes for gender\n",
    "\n",
    "    def forward(self, x, edge_index, *args, **kwargs):\n",
    "        x = F.relu(self.conv1(x, edge_index))\n",
    "        x = self.conv2(x, edge_index)\n",
    "        return F.log_softmax(x, dim=1)"
   ]
  },
  {
   "cell_type": "markdown",
   "metadata": {},
   "source": [
    "### First Fair Model\n",
    "\n",
    "This model is an instantiation of the `custom_GCN` using the standard cross-entropy loss."
   ]
  },
  {
   "cell_type": "code",
   "execution_count": 146,
   "metadata": {},
   "outputs": [
    {
     "name": "stdout",
     "output_type": "stream",
     "text": [
      "Epoch 0 | Loss: 0.6914186477661133\n",
      "Epoch 10 | Loss: 0.689189076423645\n",
      "Epoch 20 | Loss: 0.6863895058631897\n",
      "Epoch 30 | Loss: 0.6826404333114624\n",
      "Epoch 40 | Loss: 0.677354633808136\n",
      "Here are the values for the CustomGNN model with the standard NLL loss: \n",
      "Statistical Parity Difference : 0.00653\n",
      "Statistical Parity Group with S=0 : 0.02462\n",
      "Statistical Parity Group S=1 : 0.03115\n",
      "\n",
      "\n",
      "Equal Opportunity Difference : 0.01542\n",
      "Equal Opportunity Group with S=0 : 0.11590\n",
      "Equal Opportunity Group S=1 : 0.10048\n",
      "\n",
      "\n",
      "Overall Accuracy Equality Difference : 0.09149\n",
      "Overall Accuracy Group with S=0 : 0.81359\n",
      "Overall Accuracy Group S=1 : 0.72210\n",
      "\n",
      "\n",
      "Treatment Equality Difference : 1321.38330\n",
      "Treatment Equality Group with S=0 : 887.95001\n",
      "Treatment Equality Group S=1 : 2209.33325\n",
      "\n",
      "\n",
      "False Negatives Group 1 : 19884.00000\n",
      "False Positives Group 1 : 9.00000\n",
      "False Negatives Group 0 : 17759.00000\n",
      "\n",
      "\n",
      "False Positives Group 0 : 20.00000\n",
      "Accuracy : 0.77420\n"
     ]
    }
   ],
   "source": [
    "model2 = custom_GCN(data)\n",
    "optimizer2 = torch.optim.Adam(model2.parameters(), lr=0.01)\n",
    "\n",
    "# Train the model: Custom MP GNN, cross-entropy loss\n",
    "training(model=model2, data=data, optimizer=optimizer2, epochs=50)\n",
    "\n",
    "# Test the first FAIR model: CustomGNN, cross-entropy loss\n",
    "print(\"Here are the values for the CustomGNN model with the standard NLL loss: \")\n",
    "\n",
    "metrics_custom_gnn_model_1 = test(model2, data)\n",
    "\n",
    "print_metrics(metrics_custom_gnn_model_1)"
   ]
  },
  {
   "cell_type": "code",
   "execution_count": 151,
   "metadata": {},
   "outputs": [
    {
     "ename": "TypeError",
     "evalue": "custom_GCN.forward() missing 1 required positional argument: 'edge_index'",
     "output_type": "error",
     "traceback": [
      "\u001b[0;31m---------------------------------------------------------------------------\u001b[0m",
      "\u001b[0;31mTypeError\u001b[0m                                 Traceback (most recent call last)",
      "Cell \u001b[0;32mIn[151], line 8\u001b[0m\n\u001b[1;32m      4\u001b[0m \u001b[38;5;28;01mfrom\u001b[39;00m \u001b[38;5;21;01mcaptum\u001b[39;00m\u001b[38;5;21;01m.\u001b[39;00m\u001b[38;5;21;01mattr\u001b[39;00m \u001b[38;5;28;01mimport\u001b[39;00m IntegratedGradients\n\u001b[1;32m      6\u001b[0m ig \u001b[38;5;241m=\u001b[39m IntegratedGradients(forward_with_sigmoid)\n\u001b[0;32m----> 8\u001b[0m attributions \u001b[38;5;241m=\u001b[39m ig\u001b[38;5;241m.\u001b[39mattribute(data\u001b[38;5;241m.\u001b[39mx, target\u001b[38;5;241m=\u001b[39mdata\u001b[38;5;241m.\u001b[39my)\n\u001b[1;32m     10\u001b[0m \u001b[38;5;28;01mimport\u001b[39;00m \u001b[38;5;21;01mmatplotlib\u001b[39;00m\u001b[38;5;21;01m.\u001b[39;00m\u001b[38;5;21;01mpyplot\u001b[39;00m \u001b[38;5;28;01mas\u001b[39;00m \u001b[38;5;21;01mplt\u001b[39;00m\n\u001b[1;32m     12\u001b[0m node_importances \u001b[38;5;241m=\u001b[39m attributions\u001b[38;5;241m.\u001b[39mmean(dim\u001b[38;5;241m=\u001b[39m\u001b[38;5;241m0\u001b[39m)\u001b[38;5;241m.\u001b[39mdetach()\u001b[38;5;241m.\u001b[39mnumpy()\n",
      "File \u001b[0;32m~/anaconda3/lib/python3.11/site-packages/captum/log/__init__.py:42\u001b[0m, in \u001b[0;36mlog_usage.<locals>._log_usage.<locals>.wrapper\u001b[0;34m(*args, **kwargs)\u001b[0m\n\u001b[1;32m     40\u001b[0m \u001b[38;5;129m@wraps\u001b[39m(func)\n\u001b[1;32m     41\u001b[0m \u001b[38;5;28;01mdef\u001b[39;00m \u001b[38;5;21mwrapper\u001b[39m(\u001b[38;5;241m*\u001b[39margs, \u001b[38;5;241m*\u001b[39m\u001b[38;5;241m*\u001b[39mkwargs):\n\u001b[0;32m---> 42\u001b[0m     \u001b[38;5;28;01mreturn\u001b[39;00m func(\u001b[38;5;241m*\u001b[39margs, \u001b[38;5;241m*\u001b[39m\u001b[38;5;241m*\u001b[39mkwargs)\n",
      "File \u001b[0;32m~/anaconda3/lib/python3.11/site-packages/captum/attr/_core/integrated_gradients.py:286\u001b[0m, in \u001b[0;36mIntegratedGradients.attribute\u001b[0;34m(self, inputs, baselines, target, additional_forward_args, n_steps, method, internal_batch_size, return_convergence_delta)\u001b[0m\n\u001b[1;32m    274\u001b[0m     attributions \u001b[38;5;241m=\u001b[39m _batch_attribution(\n\u001b[1;32m    275\u001b[0m         \u001b[38;5;28mself\u001b[39m,\n\u001b[1;32m    276\u001b[0m         num_examples,\n\u001b[0;32m   (...)\u001b[0m\n\u001b[1;32m    283\u001b[0m         method\u001b[38;5;241m=\u001b[39mmethod,\n\u001b[1;32m    284\u001b[0m     )\n\u001b[1;32m    285\u001b[0m \u001b[38;5;28;01melse\u001b[39;00m:\n\u001b[0;32m--> 286\u001b[0m     attributions \u001b[38;5;241m=\u001b[39m \u001b[38;5;28mself\u001b[39m\u001b[38;5;241m.\u001b[39m_attribute(\n\u001b[1;32m    287\u001b[0m         inputs\u001b[38;5;241m=\u001b[39minputs,\n\u001b[1;32m    288\u001b[0m         baselines\u001b[38;5;241m=\u001b[39mbaselines,\n\u001b[1;32m    289\u001b[0m         target\u001b[38;5;241m=\u001b[39mtarget,\n\u001b[1;32m    290\u001b[0m         additional_forward_args\u001b[38;5;241m=\u001b[39madditional_forward_args,\n\u001b[1;32m    291\u001b[0m         n_steps\u001b[38;5;241m=\u001b[39mn_steps,\n\u001b[1;32m    292\u001b[0m         method\u001b[38;5;241m=\u001b[39mmethod,\n\u001b[1;32m    293\u001b[0m     )\n\u001b[1;32m    295\u001b[0m \u001b[38;5;28;01mif\u001b[39;00m return_convergence_delta:\n\u001b[1;32m    296\u001b[0m     start_point, end_point \u001b[38;5;241m=\u001b[39m baselines, inputs\n",
      "File \u001b[0;32m~/anaconda3/lib/python3.11/site-packages/captum/attr/_core/integrated_gradients.py:351\u001b[0m, in \u001b[0;36mIntegratedGradients._attribute\u001b[0;34m(self, inputs, baselines, target, additional_forward_args, n_steps, method, step_sizes_and_alphas)\u001b[0m\n\u001b[1;32m    348\u001b[0m expanded_target \u001b[38;5;241m=\u001b[39m _expand_target(target, n_steps)\n\u001b[1;32m    350\u001b[0m \u001b[38;5;66;03m# grads: dim -> (bsz * #steps x inputs[0].shape[1:], ...)\u001b[39;00m\n\u001b[0;32m--> 351\u001b[0m grads \u001b[38;5;241m=\u001b[39m \u001b[38;5;28mself\u001b[39m\u001b[38;5;241m.\u001b[39mgradient_func(\n\u001b[1;32m    352\u001b[0m     forward_fn\u001b[38;5;241m=\u001b[39m\u001b[38;5;28mself\u001b[39m\u001b[38;5;241m.\u001b[39mforward_func,\n\u001b[1;32m    353\u001b[0m     inputs\u001b[38;5;241m=\u001b[39mscaled_features_tpl,\n\u001b[1;32m    354\u001b[0m     target_ind\u001b[38;5;241m=\u001b[39mexpanded_target,\n\u001b[1;32m    355\u001b[0m     additional_forward_args\u001b[38;5;241m=\u001b[39minput_additional_args,\n\u001b[1;32m    356\u001b[0m )\n\u001b[1;32m    358\u001b[0m \u001b[38;5;66;03m# flattening grads so that we can multilpy it with step-size\u001b[39;00m\n\u001b[1;32m    359\u001b[0m \u001b[38;5;66;03m# calling contiguous to avoid `memory whole` problems\u001b[39;00m\n\u001b[1;32m    360\u001b[0m scaled_grads \u001b[38;5;241m=\u001b[39m [\n\u001b[1;32m    361\u001b[0m     grad\u001b[38;5;241m.\u001b[39mcontiguous()\u001b[38;5;241m.\u001b[39mview(n_steps, \u001b[38;5;241m-\u001b[39m\u001b[38;5;241m1\u001b[39m)\n\u001b[1;32m    362\u001b[0m     \u001b[38;5;241m*\u001b[39m torch\u001b[38;5;241m.\u001b[39mtensor(step_sizes)\u001b[38;5;241m.\u001b[39mview(n_steps, \u001b[38;5;241m1\u001b[39m)\u001b[38;5;241m.\u001b[39mto(grad\u001b[38;5;241m.\u001b[39mdevice)\n\u001b[1;32m    363\u001b[0m     \u001b[38;5;28;01mfor\u001b[39;00m grad \u001b[38;5;129;01min\u001b[39;00m grads\n\u001b[1;32m    364\u001b[0m ]\n",
      "File \u001b[0;32m~/anaconda3/lib/python3.11/site-packages/captum/_utils/gradient.py:112\u001b[0m, in \u001b[0;36mcompute_gradients\u001b[0;34m(forward_fn, inputs, target_ind, additional_forward_args)\u001b[0m\n\u001b[1;32m     94\u001b[0m \u001b[38;5;250m\u001b[39m\u001b[38;5;124mr\u001b[39m\u001b[38;5;124;03m\"\"\"\u001b[39;00m\n\u001b[1;32m     95\u001b[0m \u001b[38;5;124;03mComputes gradients of the output with respect to inputs for an\u001b[39;00m\n\u001b[1;32m     96\u001b[0m \u001b[38;5;124;03marbitrary forward function.\u001b[39;00m\n\u001b[0;32m   (...)\u001b[0m\n\u001b[1;32m    108\u001b[0m \u001b[38;5;124;03m                arguments) if no additional arguments are required\u001b[39;00m\n\u001b[1;32m    109\u001b[0m \u001b[38;5;124;03m\"\"\"\u001b[39;00m\n\u001b[1;32m    110\u001b[0m \u001b[38;5;28;01mwith\u001b[39;00m torch\u001b[38;5;241m.\u001b[39mautograd\u001b[38;5;241m.\u001b[39mset_grad_enabled(\u001b[38;5;28;01mTrue\u001b[39;00m):\n\u001b[1;32m    111\u001b[0m     \u001b[38;5;66;03m# runs forward pass\u001b[39;00m\n\u001b[0;32m--> 112\u001b[0m     outputs \u001b[38;5;241m=\u001b[39m _run_forward(forward_fn, inputs, target_ind, additional_forward_args)\n\u001b[1;32m    113\u001b[0m     \u001b[38;5;28;01massert\u001b[39;00m outputs[\u001b[38;5;241m0\u001b[39m]\u001b[38;5;241m.\u001b[39mnumel() \u001b[38;5;241m==\u001b[39m \u001b[38;5;241m1\u001b[39m, (\n\u001b[1;32m    114\u001b[0m         \u001b[38;5;124m\"\u001b[39m\u001b[38;5;124mTarget not provided when necessary, cannot\u001b[39m\u001b[38;5;124m\"\u001b[39m\n\u001b[1;32m    115\u001b[0m         \u001b[38;5;124m\"\u001b[39m\u001b[38;5;124m take gradient with respect to multiple outputs.\u001b[39m\u001b[38;5;124m\"\u001b[39m\n\u001b[1;32m    116\u001b[0m     )\n\u001b[1;32m    117\u001b[0m     \u001b[38;5;66;03m# torch.unbind(forward_out) is a list of scalar tensor tuples and\u001b[39;00m\n\u001b[1;32m    118\u001b[0m     \u001b[38;5;66;03m# contains batch_size * #steps elements\u001b[39;00m\n",
      "File \u001b[0;32m~/anaconda3/lib/python3.11/site-packages/captum/_utils/common.py:531\u001b[0m, in \u001b[0;36m_run_forward\u001b[0;34m(forward_func, inputs, target, additional_forward_args)\u001b[0m\n\u001b[1;32m    528\u001b[0m inputs \u001b[38;5;241m=\u001b[39m _format_inputs(inputs)\n\u001b[1;32m    529\u001b[0m additional_forward_args \u001b[38;5;241m=\u001b[39m _format_additional_forward_args(additional_forward_args)\n\u001b[0;32m--> 531\u001b[0m output \u001b[38;5;241m=\u001b[39m forward_func(\n\u001b[1;32m    532\u001b[0m     \u001b[38;5;241m*\u001b[39m(\u001b[38;5;241m*\u001b[39minputs, \u001b[38;5;241m*\u001b[39madditional_forward_args)\n\u001b[1;32m    533\u001b[0m     \u001b[38;5;28;01mif\u001b[39;00m additional_forward_args \u001b[38;5;129;01mis\u001b[39;00m \u001b[38;5;129;01mnot\u001b[39;00m \u001b[38;5;28;01mNone\u001b[39;00m\n\u001b[1;32m    534\u001b[0m     \u001b[38;5;28;01melse\u001b[39;00m inputs\n\u001b[1;32m    535\u001b[0m )\n\u001b[1;32m    536\u001b[0m \u001b[38;5;28;01mreturn\u001b[39;00m _select_targets(output, target)\n",
      "Cell \u001b[0;32mIn[151], line 2\u001b[0m, in \u001b[0;36mforward_with_sigmoid\u001b[0;34m(input_data)\u001b[0m\n\u001b[1;32m      1\u001b[0m \u001b[38;5;28;01mdef\u001b[39;00m \u001b[38;5;21mforward_with_sigmoid\u001b[39m(input_data):\n\u001b[0;32m----> 2\u001b[0m     \u001b[38;5;28;01mreturn\u001b[39;00m torch\u001b[38;5;241m.\u001b[39msigmoid(model2(input_data))\n",
      "File \u001b[0;32m~/anaconda3/lib/python3.11/site-packages/torch/nn/modules/module.py:1511\u001b[0m, in \u001b[0;36mModule._wrapped_call_impl\u001b[0;34m(self, *args, **kwargs)\u001b[0m\n\u001b[1;32m   1509\u001b[0m     \u001b[38;5;28;01mreturn\u001b[39;00m \u001b[38;5;28mself\u001b[39m\u001b[38;5;241m.\u001b[39m_compiled_call_impl(\u001b[38;5;241m*\u001b[39margs, \u001b[38;5;241m*\u001b[39m\u001b[38;5;241m*\u001b[39mkwargs)  \u001b[38;5;66;03m# type: ignore[misc]\u001b[39;00m\n\u001b[1;32m   1510\u001b[0m \u001b[38;5;28;01melse\u001b[39;00m:\n\u001b[0;32m-> 1511\u001b[0m     \u001b[38;5;28;01mreturn\u001b[39;00m \u001b[38;5;28mself\u001b[39m\u001b[38;5;241m.\u001b[39m_call_impl(\u001b[38;5;241m*\u001b[39margs, \u001b[38;5;241m*\u001b[39m\u001b[38;5;241m*\u001b[39mkwargs)\n",
      "File \u001b[0;32m~/anaconda3/lib/python3.11/site-packages/torch/nn/modules/module.py:1520\u001b[0m, in \u001b[0;36mModule._call_impl\u001b[0;34m(self, *args, **kwargs)\u001b[0m\n\u001b[1;32m   1515\u001b[0m \u001b[38;5;66;03m# If we don't have any hooks, we want to skip the rest of the logic in\u001b[39;00m\n\u001b[1;32m   1516\u001b[0m \u001b[38;5;66;03m# this function, and just call forward.\u001b[39;00m\n\u001b[1;32m   1517\u001b[0m \u001b[38;5;28;01mif\u001b[39;00m \u001b[38;5;129;01mnot\u001b[39;00m (\u001b[38;5;28mself\u001b[39m\u001b[38;5;241m.\u001b[39m_backward_hooks \u001b[38;5;129;01mor\u001b[39;00m \u001b[38;5;28mself\u001b[39m\u001b[38;5;241m.\u001b[39m_backward_pre_hooks \u001b[38;5;129;01mor\u001b[39;00m \u001b[38;5;28mself\u001b[39m\u001b[38;5;241m.\u001b[39m_forward_hooks \u001b[38;5;129;01mor\u001b[39;00m \u001b[38;5;28mself\u001b[39m\u001b[38;5;241m.\u001b[39m_forward_pre_hooks\n\u001b[1;32m   1518\u001b[0m         \u001b[38;5;129;01mor\u001b[39;00m _global_backward_pre_hooks \u001b[38;5;129;01mor\u001b[39;00m _global_backward_hooks\n\u001b[1;32m   1519\u001b[0m         \u001b[38;5;129;01mor\u001b[39;00m _global_forward_hooks \u001b[38;5;129;01mor\u001b[39;00m _global_forward_pre_hooks):\n\u001b[0;32m-> 1520\u001b[0m     \u001b[38;5;28;01mreturn\u001b[39;00m forward_call(\u001b[38;5;241m*\u001b[39margs, \u001b[38;5;241m*\u001b[39m\u001b[38;5;241m*\u001b[39mkwargs)\n\u001b[1;32m   1522\u001b[0m \u001b[38;5;28;01mtry\u001b[39;00m:\n\u001b[1;32m   1523\u001b[0m     result \u001b[38;5;241m=\u001b[39m \u001b[38;5;28;01mNone\u001b[39;00m\n",
      "\u001b[0;31mTypeError\u001b[0m: custom_GCN.forward() missing 1 required positional argument: 'edge_index'"
     ]
    }
   ],
   "source": [
    "def forward_with_sigmoid(input_data):\n",
    "    return torch.sigmoid(model2(input_data))\n",
    "\n",
    "from captum.attr import IntegratedGradients\n",
    "\n",
    "ig = IntegratedGradients(forward_with_sigmoid)\n",
    "\n",
    "attributions = ig.attribute(data.x, target=data.y)\n",
    "\n",
    "import matplotlib.pyplot as plt\n",
    "\n",
    "node_importances = attributions.mean(dim=0).detach().numpy()\n",
    "\n",
    "plt.bar(np.arange(len(node_importances)), node_importances)\n",
    "plt.ylabel('Importance')\n",
    "plt.xlabel('Node Index')\n",
    "plt.show()"
   ]
  },
  {
   "cell_type": "code",
   "execution_count": 148,
   "metadata": {},
   "outputs": [
    {
     "ename": "AssertionError",
     "evalue": "",
     "output_type": "error",
     "traceback": [
      "\u001b[0;31m---------------------------------------------------------------------------\u001b[0m",
      "\u001b[0;31mAssertionError\u001b[0m                            Traceback (most recent call last)",
      "Cell \u001b[0;32mIn[148], line 14\u001b[0m\n\u001b[1;32m      1\u001b[0m explainer2 \u001b[38;5;241m=\u001b[39m Explainer(\n\u001b[1;32m      2\u001b[0m     model\u001b[38;5;241m=\u001b[39mmodel2,\n\u001b[1;32m      3\u001b[0m     algorithm\u001b[38;5;241m=\u001b[39mGNNExplainer(epochs\u001b[38;5;241m=\u001b[39m\u001b[38;5;241m50\u001b[39m),\n\u001b[0;32m   (...)\u001b[0m\n\u001b[1;32m     11\u001b[0m     ),\n\u001b[1;32m     12\u001b[0m )\n\u001b[0;32m---> 14\u001b[0m explanation2 \u001b[38;5;241m=\u001b[39m explainer2(data\u001b[38;5;241m.\u001b[39mx, edge_index)\n\u001b[1;32m     15\u001b[0m \u001b[38;5;28mprint\u001b[39m(explanation2\u001b[38;5;241m.\u001b[39medge_mask)\n\u001b[1;32m     16\u001b[0m \u001b[38;5;28mprint\u001b[39m(explanation2\u001b[38;5;241m.\u001b[39mnode_mask)\n",
      "File \u001b[0;32m~/anaconda3/lib/python3.11/site-packages/torch_geometric/explain/explainer.py:195\u001b[0m, in \u001b[0;36mExplainer.__call__\u001b[0;34m(self, x, edge_index, target, index, **kwargs)\u001b[0m\n\u001b[1;32m    191\u001b[0m     \u001b[38;5;28;01mif\u001b[39;00m target \u001b[38;5;129;01mis\u001b[39;00m \u001b[38;5;129;01mnot\u001b[39;00m \u001b[38;5;28;01mNone\u001b[39;00m:\n\u001b[1;32m    192\u001b[0m         warnings\u001b[38;5;241m.\u001b[39mwarn(\n\u001b[1;32m    193\u001b[0m             \u001b[38;5;124mf\u001b[39m\u001b[38;5;124m\"\u001b[39m\u001b[38;5;124mThe \u001b[39m\u001b[38;5;124m'\u001b[39m\u001b[38;5;124mtarget\u001b[39m\u001b[38;5;124m'\u001b[39m\u001b[38;5;124m should not be provided for the explanation \u001b[39m\u001b[38;5;124m\"\u001b[39m\n\u001b[1;32m    194\u001b[0m             \u001b[38;5;124mf\u001b[39m\u001b[38;5;124m\"\u001b[39m\u001b[38;5;124mtype \u001b[39m\u001b[38;5;124m'\u001b[39m\u001b[38;5;132;01m{\u001b[39;00m\u001b[38;5;28mself\u001b[39m\u001b[38;5;241m.\u001b[39mexplanation_type\u001b[38;5;241m.\u001b[39mvalue\u001b[38;5;132;01m}\u001b[39;00m\u001b[38;5;124m'\u001b[39m\u001b[38;5;124m\"\u001b[39m)\n\u001b[0;32m--> 195\u001b[0m     prediction \u001b[38;5;241m=\u001b[39m \u001b[38;5;28mself\u001b[39m\u001b[38;5;241m.\u001b[39mget_prediction(x, edge_index, \u001b[38;5;241m*\u001b[39m\u001b[38;5;241m*\u001b[39mkwargs)\n\u001b[1;32m    196\u001b[0m     target \u001b[38;5;241m=\u001b[39m \u001b[38;5;28mself\u001b[39m\u001b[38;5;241m.\u001b[39mget_target(prediction)\n\u001b[1;32m    198\u001b[0m \u001b[38;5;28;01mif\u001b[39;00m \u001b[38;5;28misinstance\u001b[39m(index, \u001b[38;5;28mint\u001b[39m):\n",
      "File \u001b[0;32m~/anaconda3/lib/python3.11/site-packages/torch/utils/_contextlib.py:115\u001b[0m, in \u001b[0;36mcontext_decorator.<locals>.decorate_context\u001b[0;34m(*args, **kwargs)\u001b[0m\n\u001b[1;32m    112\u001b[0m \u001b[38;5;129m@functools\u001b[39m\u001b[38;5;241m.\u001b[39mwraps(func)\n\u001b[1;32m    113\u001b[0m \u001b[38;5;28;01mdef\u001b[39;00m \u001b[38;5;21mdecorate_context\u001b[39m(\u001b[38;5;241m*\u001b[39margs, \u001b[38;5;241m*\u001b[39m\u001b[38;5;241m*\u001b[39mkwargs):\n\u001b[1;32m    114\u001b[0m     \u001b[38;5;28;01mwith\u001b[39;00m ctx_factory():\n\u001b[0;32m--> 115\u001b[0m         \u001b[38;5;28;01mreturn\u001b[39;00m func(\u001b[38;5;241m*\u001b[39margs, \u001b[38;5;241m*\u001b[39m\u001b[38;5;241m*\u001b[39mkwargs)\n",
      "File \u001b[0;32m~/anaconda3/lib/python3.11/site-packages/torch_geometric/explain/explainer.py:115\u001b[0m, in \u001b[0;36mExplainer.get_prediction\u001b[0;34m(self, *args, **kwargs)\u001b[0m\n\u001b[1;32m    112\u001b[0m \u001b[38;5;28mself\u001b[39m\u001b[38;5;241m.\u001b[39mmodel\u001b[38;5;241m.\u001b[39meval()\n\u001b[1;32m    114\u001b[0m \u001b[38;5;28;01mwith\u001b[39;00m torch\u001b[38;5;241m.\u001b[39mno_grad():\n\u001b[0;32m--> 115\u001b[0m     out \u001b[38;5;241m=\u001b[39m \u001b[38;5;28mself\u001b[39m\u001b[38;5;241m.\u001b[39mmodel(\u001b[38;5;241m*\u001b[39margs, \u001b[38;5;241m*\u001b[39m\u001b[38;5;241m*\u001b[39mkwargs)\n\u001b[1;32m    117\u001b[0m \u001b[38;5;28mself\u001b[39m\u001b[38;5;241m.\u001b[39mmodel\u001b[38;5;241m.\u001b[39mtrain(training)\n\u001b[1;32m    119\u001b[0m \u001b[38;5;28;01mreturn\u001b[39;00m out\n",
      "File \u001b[0;32m~/anaconda3/lib/python3.11/site-packages/torch/nn/modules/module.py:1511\u001b[0m, in \u001b[0;36mModule._wrapped_call_impl\u001b[0;34m(self, *args, **kwargs)\u001b[0m\n\u001b[1;32m   1509\u001b[0m     \u001b[38;5;28;01mreturn\u001b[39;00m \u001b[38;5;28mself\u001b[39m\u001b[38;5;241m.\u001b[39m_compiled_call_impl(\u001b[38;5;241m*\u001b[39margs, \u001b[38;5;241m*\u001b[39m\u001b[38;5;241m*\u001b[39mkwargs)  \u001b[38;5;66;03m# type: ignore[misc]\u001b[39;00m\n\u001b[1;32m   1510\u001b[0m \u001b[38;5;28;01melse\u001b[39;00m:\n\u001b[0;32m-> 1511\u001b[0m     \u001b[38;5;28;01mreturn\u001b[39;00m \u001b[38;5;28mself\u001b[39m\u001b[38;5;241m.\u001b[39m_call_impl(\u001b[38;5;241m*\u001b[39margs, \u001b[38;5;241m*\u001b[39m\u001b[38;5;241m*\u001b[39mkwargs)\n",
      "File \u001b[0;32m~/anaconda3/lib/python3.11/site-packages/torch/nn/modules/module.py:1520\u001b[0m, in \u001b[0;36mModule._call_impl\u001b[0;34m(self, *args, **kwargs)\u001b[0m\n\u001b[1;32m   1515\u001b[0m \u001b[38;5;66;03m# If we don't have any hooks, we want to skip the rest of the logic in\u001b[39;00m\n\u001b[1;32m   1516\u001b[0m \u001b[38;5;66;03m# this function, and just call forward.\u001b[39;00m\n\u001b[1;32m   1517\u001b[0m \u001b[38;5;28;01mif\u001b[39;00m \u001b[38;5;129;01mnot\u001b[39;00m (\u001b[38;5;28mself\u001b[39m\u001b[38;5;241m.\u001b[39m_backward_hooks \u001b[38;5;129;01mor\u001b[39;00m \u001b[38;5;28mself\u001b[39m\u001b[38;5;241m.\u001b[39m_backward_pre_hooks \u001b[38;5;129;01mor\u001b[39;00m \u001b[38;5;28mself\u001b[39m\u001b[38;5;241m.\u001b[39m_forward_hooks \u001b[38;5;129;01mor\u001b[39;00m \u001b[38;5;28mself\u001b[39m\u001b[38;5;241m.\u001b[39m_forward_pre_hooks\n\u001b[1;32m   1518\u001b[0m         \u001b[38;5;129;01mor\u001b[39;00m _global_backward_pre_hooks \u001b[38;5;129;01mor\u001b[39;00m _global_backward_hooks\n\u001b[1;32m   1519\u001b[0m         \u001b[38;5;129;01mor\u001b[39;00m _global_forward_hooks \u001b[38;5;129;01mor\u001b[39;00m _global_forward_pre_hooks):\n\u001b[0;32m-> 1520\u001b[0m     \u001b[38;5;28;01mreturn\u001b[39;00m forward_call(\u001b[38;5;241m*\u001b[39margs, \u001b[38;5;241m*\u001b[39m\u001b[38;5;241m*\u001b[39mkwargs)\n\u001b[1;32m   1522\u001b[0m \u001b[38;5;28;01mtry\u001b[39;00m:\n\u001b[1;32m   1523\u001b[0m     result \u001b[38;5;241m=\u001b[39m \u001b[38;5;28;01mNone\u001b[39;00m\n",
      "Cell \u001b[0;32mIn[145], line 8\u001b[0m, in \u001b[0;36mcustom_GCN.forward\u001b[0;34m(self, x, edge_index, *args, **kwargs)\u001b[0m\n\u001b[1;32m      7\u001b[0m \u001b[38;5;28;01mdef\u001b[39;00m \u001b[38;5;21mforward\u001b[39m(\u001b[38;5;28mself\u001b[39m, x, edge_index, \u001b[38;5;241m*\u001b[39margs, \u001b[38;5;241m*\u001b[39m\u001b[38;5;241m*\u001b[39mkwargs):\n\u001b[0;32m----> 8\u001b[0m     x \u001b[38;5;241m=\u001b[39m F\u001b[38;5;241m.\u001b[39mrelu(\u001b[38;5;28mself\u001b[39m\u001b[38;5;241m.\u001b[39mconv1(x, edge_index))\n\u001b[1;32m      9\u001b[0m     x \u001b[38;5;241m=\u001b[39m \u001b[38;5;28mself\u001b[39m\u001b[38;5;241m.\u001b[39mconv2(x, edge_index)\n\u001b[1;32m     10\u001b[0m     \u001b[38;5;28;01mreturn\u001b[39;00m F\u001b[38;5;241m.\u001b[39mlog_softmax(x, dim\u001b[38;5;241m=\u001b[39m\u001b[38;5;241m1\u001b[39m)\n",
      "File \u001b[0;32m~/anaconda3/lib/python3.11/site-packages/torch/nn/modules/module.py:1511\u001b[0m, in \u001b[0;36mModule._wrapped_call_impl\u001b[0;34m(self, *args, **kwargs)\u001b[0m\n\u001b[1;32m   1509\u001b[0m     \u001b[38;5;28;01mreturn\u001b[39;00m \u001b[38;5;28mself\u001b[39m\u001b[38;5;241m.\u001b[39m_compiled_call_impl(\u001b[38;5;241m*\u001b[39margs, \u001b[38;5;241m*\u001b[39m\u001b[38;5;241m*\u001b[39mkwargs)  \u001b[38;5;66;03m# type: ignore[misc]\u001b[39;00m\n\u001b[1;32m   1510\u001b[0m \u001b[38;5;28;01melse\u001b[39;00m:\n\u001b[0;32m-> 1511\u001b[0m     \u001b[38;5;28;01mreturn\u001b[39;00m \u001b[38;5;28mself\u001b[39m\u001b[38;5;241m.\u001b[39m_call_impl(\u001b[38;5;241m*\u001b[39margs, \u001b[38;5;241m*\u001b[39m\u001b[38;5;241m*\u001b[39mkwargs)\n",
      "File \u001b[0;32m~/anaconda3/lib/python3.11/site-packages/torch/nn/modules/module.py:1520\u001b[0m, in \u001b[0;36mModule._call_impl\u001b[0;34m(self, *args, **kwargs)\u001b[0m\n\u001b[1;32m   1515\u001b[0m \u001b[38;5;66;03m# If we don't have any hooks, we want to skip the rest of the logic in\u001b[39;00m\n\u001b[1;32m   1516\u001b[0m \u001b[38;5;66;03m# this function, and just call forward.\u001b[39;00m\n\u001b[1;32m   1517\u001b[0m \u001b[38;5;28;01mif\u001b[39;00m \u001b[38;5;129;01mnot\u001b[39;00m (\u001b[38;5;28mself\u001b[39m\u001b[38;5;241m.\u001b[39m_backward_hooks \u001b[38;5;129;01mor\u001b[39;00m \u001b[38;5;28mself\u001b[39m\u001b[38;5;241m.\u001b[39m_backward_pre_hooks \u001b[38;5;129;01mor\u001b[39;00m \u001b[38;5;28mself\u001b[39m\u001b[38;5;241m.\u001b[39m_forward_hooks \u001b[38;5;129;01mor\u001b[39;00m \u001b[38;5;28mself\u001b[39m\u001b[38;5;241m.\u001b[39m_forward_pre_hooks\n\u001b[1;32m   1518\u001b[0m         \u001b[38;5;129;01mor\u001b[39;00m _global_backward_pre_hooks \u001b[38;5;129;01mor\u001b[39;00m _global_backward_hooks\n\u001b[1;32m   1519\u001b[0m         \u001b[38;5;129;01mor\u001b[39;00m _global_forward_hooks \u001b[38;5;129;01mor\u001b[39;00m _global_forward_pre_hooks):\n\u001b[0;32m-> 1520\u001b[0m     \u001b[38;5;28;01mreturn\u001b[39;00m forward_call(\u001b[38;5;241m*\u001b[39margs, \u001b[38;5;241m*\u001b[39m\u001b[38;5;241m*\u001b[39mkwargs)\n\u001b[1;32m   1522\u001b[0m \u001b[38;5;28;01mtry\u001b[39;00m:\n\u001b[1;32m   1523\u001b[0m     result \u001b[38;5;241m=\u001b[39m \u001b[38;5;28;01mNone\u001b[39;00m\n",
      "Cell \u001b[0;32mIn[134], line 15\u001b[0m, in \u001b[0;36mFairnessAwareMessagePassingLayer.forward\u001b[0;34m(self, x, edge_index)\u001b[0m\n\u001b[1;32m     11\u001b[0m edge_index, _ \u001b[38;5;241m=\u001b[39m add_self_loops(edge_index, num_nodes\u001b[38;5;241m=\u001b[39mx\u001b[38;5;241m.\u001b[39msize(\u001b[38;5;241m0\u001b[39m))\n\u001b[1;32m     13\u001b[0m x \u001b[38;5;241m=\u001b[39m \u001b[38;5;28mself\u001b[39m\u001b[38;5;241m.\u001b[39mlin(x)\n\u001b[0;32m---> 15\u001b[0m \u001b[38;5;28;01mreturn\u001b[39;00m \u001b[38;5;28mself\u001b[39m\u001b[38;5;241m.\u001b[39mpropagate(edge_index, size\u001b[38;5;241m=\u001b[39m(x\u001b[38;5;241m.\u001b[39msize(\u001b[38;5;241m0\u001b[39m), x\u001b[38;5;241m.\u001b[39msize(\u001b[38;5;241m0\u001b[39m)), x\u001b[38;5;241m=\u001b[39mx)\n",
      "File \u001b[0;32m~/anaconda3/lib/python3.11/site-packages/torch_geometric/nn/conv/message_passing.py:472\u001b[0m, in \u001b[0;36mMessagePassing.propagate\u001b[0;34m(self, edge_index, size, **kwargs)\u001b[0m\n\u001b[1;32m    469\u001b[0m \u001b[38;5;28;01mif\u001b[39;00m \u001b[38;5;28mself\u001b[39m\u001b[38;5;241m.\u001b[39mexplain:\n\u001b[1;32m    470\u001b[0m     explain_msg_kwargs \u001b[38;5;241m=\u001b[39m \u001b[38;5;28mself\u001b[39m\u001b[38;5;241m.\u001b[39minspector\u001b[38;5;241m.\u001b[39mdistribute(\n\u001b[1;32m    471\u001b[0m         \u001b[38;5;124m'\u001b[39m\u001b[38;5;124mexplain_message\u001b[39m\u001b[38;5;124m'\u001b[39m, coll_dict)\n\u001b[0;32m--> 472\u001b[0m     out \u001b[38;5;241m=\u001b[39m \u001b[38;5;28mself\u001b[39m\u001b[38;5;241m.\u001b[39mexplain_message(out, \u001b[38;5;241m*\u001b[39m\u001b[38;5;241m*\u001b[39mexplain_msg_kwargs)\n\u001b[1;32m    474\u001b[0m aggr_kwargs \u001b[38;5;241m=\u001b[39m \u001b[38;5;28mself\u001b[39m\u001b[38;5;241m.\u001b[39minspector\u001b[38;5;241m.\u001b[39mdistribute(\u001b[38;5;124m'\u001b[39m\u001b[38;5;124maggregate\u001b[39m\u001b[38;5;124m'\u001b[39m, coll_dict)\n\u001b[1;32m    475\u001b[0m \u001b[38;5;28;01mfor\u001b[39;00m hook \u001b[38;5;129;01min\u001b[39;00m \u001b[38;5;28mself\u001b[39m\u001b[38;5;241m.\u001b[39m_aggregate_forward_pre_hooks\u001b[38;5;241m.\u001b[39mvalues():\n",
      "File \u001b[0;32m~/anaconda3/lib/python3.11/site-packages/torch_geometric/nn/conv/message_passing.py:585\u001b[0m, in \u001b[0;36mMessagePassing.explain_message\u001b[0;34m(self, inputs, size_i)\u001b[0m\n\u001b[1;32m    583\u001b[0m     loop \u001b[38;5;241m=\u001b[39m edge_mask\u001b[38;5;241m.\u001b[39mnew_ones(size_i)\n\u001b[1;32m    584\u001b[0m     edge_mask \u001b[38;5;241m=\u001b[39m torch\u001b[38;5;241m.\u001b[39mcat([edge_mask, loop], dim\u001b[38;5;241m=\u001b[39m\u001b[38;5;241m0\u001b[39m)\n\u001b[0;32m--> 585\u001b[0m \u001b[38;5;28;01massert\u001b[39;00m inputs\u001b[38;5;241m.\u001b[39msize(\u001b[38;5;28mself\u001b[39m\u001b[38;5;241m.\u001b[39mnode_dim) \u001b[38;5;241m==\u001b[39m edge_mask\u001b[38;5;241m.\u001b[39msize(\u001b[38;5;241m0\u001b[39m)\n\u001b[1;32m    587\u001b[0m size \u001b[38;5;241m=\u001b[39m [\u001b[38;5;241m1\u001b[39m] \u001b[38;5;241m*\u001b[39m inputs\u001b[38;5;241m.\u001b[39mdim()\n\u001b[1;32m    588\u001b[0m size[\u001b[38;5;28mself\u001b[39m\u001b[38;5;241m.\u001b[39mnode_dim] \u001b[38;5;241m=\u001b[39m \u001b[38;5;241m-\u001b[39m\u001b[38;5;241m1\u001b[39m\n",
      "\u001b[0;31mAssertionError\u001b[0m: "
     ]
    }
   ],
   "source": [
    "explainer2 = Explainer(\n",
    "    model=model2,\n",
    "    algorithm=GNNExplainer(epochs=50),\n",
    "    explanation_type='model',\n",
    "    node_mask_type='attributes',\n",
    "    edge_mask_type='object',\n",
    "    model_config=dict(\n",
    "        mode='multiclass_classification',\n",
    "        task_level='node',\n",
    "        return_type='log_probs', \n",
    "    ),\n",
    ")\n",
    "\n",
    "explanation2 = explainer2(data.x, edge_index)\n",
    "print(explanation2.edge_mask)\n",
    "print(explanation2.node_mask)\n",
    "\n",
    "explanation2.visualize_feature_importance(top_k=10)"
   ]
  },
  {
   "cell_type": "code",
   "execution_count": 24,
   "metadata": {},
   "outputs": [
    {
     "name": "stdout",
     "output_type": "stream",
     "text": [
      "Here are the values for the CustomGNN model with the standard NLL loss: \n",
      "tensor([0, 0, 0, 0, 0, 0, 0, 0, 0, 0, 0, 0, 0, 0, 0, 0, 0, 0, 0, 0])\n",
      "Statistical Parity Difference : 0.09618\n",
      "Statistical Parity Group with S=0 : 0.00055\n",
      "Statistical Parity Group S=1 : 0.09672\n",
      "\n",
      "\n",
      "Equal Opportunity Difference : 0.09554\n",
      "Equal Opportunity Group with S=0 : 0.00069\n",
      "Equal Opportunity Group S=1 : 0.09622\n",
      "\n",
      "\n",
      "Overall Accuracy Equality Difference : 0.12325\n",
      "Overall Accuracy Group with S=0 : 0.60343\n",
      "Overall Accuracy Group S=1 : 0.48019\n",
      "\n",
      "\n",
      "Treatment Equality Difference : 1444.01123\n",
      "Treatment Equality Group with S=0 : 1454.23535\n",
      "Treatment Equality Group S=1 : 10.22416\n",
      "\n",
      "\n",
      "False Negatives Group 1 : 19978.00000\n",
      "False Positives Group 1 : 1954.00000\n",
      "False Negatives Group 0 : 49444.00000\n",
      "\n",
      "\n",
      "False Positives Group 0 : 34.00000\n",
      "Accuracy : 0.77192\n"
     ]
    }
   ],
   "source": [
    "print(\"Here are the values for the CustomGNN model with the standard NLL loss: \")\n",
    "\n",
    "metrics_custom_gnn_model_1 = test(model2, data)\n",
    "\n",
    "print_metrics(metrics_custom_gnn_model_1)"
   ]
  },
  {
   "cell_type": "code",
   "execution_count": 43,
   "metadata": {},
   "outputs": [
    {
     "name": "stdout",
     "output_type": "stream",
     "text": [
      "Epoch 0 | Loss: 0.6917305588722229\n",
      "Epoch 10 | Loss: 0.6893579363822937\n",
      "Epoch 20 | Loss: 0.6863116025924683\n",
      "Epoch 30 | Loss: 0.6820639371871948\n",
      "Epoch 40 | Loss: 0.6766539216041565\n"
     ]
    }
   ],
   "source": [
    "model2 = custom_GCN(data)\n",
    "optimizer2 = torch.optim.Adam(model2.parameters(), lr=0.01)\n",
    "\n",
    "# Train the model: Custom MP GNN, cross-entropy loss\n",
    "training(model=model2, data=data, optimizer=optimizer2, epochs=50)"
   ]
  },
  {
   "cell_type": "code",
   "execution_count": 44,
   "metadata": {},
   "outputs": [
    {
     "name": "stdout",
     "output_type": "stream",
     "text": [
      "Here are the values for the CustomGNN model with the standard cross-entropy loss: \n",
      "Statistical Parity Difference : 0.00867\n",
      "Statistical Parity Group with S=0 : 0.02606\n",
      "Statistical Parity Group S=1 : 0.03473\n",
      "\n",
      "\n",
      "Equal Opportunity Difference : 0.00996\n",
      "Equal Opportunity Group with S=0 : 0.12147\n",
      "Equal Opportunity Group S=1 : 0.11151\n",
      "\n",
      "\n",
      "Overall Accuracy Equality Difference : 0.08916\n",
      "Overall Accuracy Group with S=0 : 0.81450\n",
      "Overall Accuracy Group S=1 : 0.72534\n",
      "\n",
      "\n",
      "Treatment Equality Difference : 543.08252\n",
      "Treatment Equality Group with S=0 : 392.15555\n",
      "Treatment Equality Group S=1 : 935.23810\n",
      "\n",
      "\n",
      "Accuracy : 0.77683\n"
     ]
    }
   ],
   "source": [
    "# Test the first FAIR model: CustomGNN, cross-entropy loss\n",
    "print(\"Here are the values for the CustomGNN model with the standard cross-entropy loss: \")\n",
    "\n",
    "metrics_custom_gnn_model_1 = test(model2, data)\n",
    "\n",
    "print_metrics(metrics_custom_gnn_model_1)"
   ]
  },
  {
   "cell_type": "markdown",
   "metadata": {},
   "source": [
    "### Second Fair Model\n",
    "\n",
    "This model is an instantiation of the `custom_GCN` using the fair cross-entropy loss."
   ]
  },
  {
   "cell_type": "code",
   "execution_count": 50,
   "metadata": {},
   "outputs": [
    {
     "name": "stdout",
     "output_type": "stream",
     "text": [
      "Epoch 0 | Loss: 0.41712942719459534\n",
      "Epoch 10 | Loss: 0.4149610698223114\n",
      "Epoch 20 | Loss: 0.4126940667629242\n",
      "Epoch 30 | Loss: 0.40997573733329773\n",
      "Epoch 40 | Loss: 0.4066038131713867\n"
     ]
    }
   ],
   "source": [
    "custom_gnn_model_2 = custom_GCN(data)\n",
    "optimizer_custom_gnn_model_2 = torch.optim.Adam(custom_gnn_model_2.parameters(), lr=0.01)\n",
    "\n",
    "fairness=True\n",
    "alpha, beta, gamma, delta = 0.1, 0.1, 0.1, 0.1\n",
    "\n",
    "# Train the model: Custom MP GNN, FAIR cross-entropy loss\n",
    "training(model=custom_gnn_model_2, \n",
    "         data=data, \n",
    "         optimizer=optimizer_custom_gnn_model_2, \n",
    "         fairness=fairness, \n",
    "         alpha=alpha, \n",
    "         beta=beta, \n",
    "         gamma=gamma, \n",
    "         delta=delta, \n",
    "         epochs=50)"
   ]
  },
  {
   "cell_type": "code",
   "execution_count": 51,
   "metadata": {},
   "outputs": [
    {
     "name": "stdout",
     "output_type": "stream",
     "text": [
      "Here are the values for the CustomGNN model with the FAIR standard cross-entropy loss: \n",
      "Statistical Parity Difference : 0.01379\n",
      "Statistical Parity Group with S=0 : 0.04246\n",
      "Statistical Parity Group S=1 : 0.05626\n",
      "\n",
      "\n",
      "Equal Opportunity Difference : 0.02047\n",
      "Equal Opportunity Group with S=0 : 0.19844\n",
      "Equal Opportunity Group S=1 : 0.17797\n",
      "\n",
      "\n",
      "Overall Accuracy Equality Difference : 0.08566\n",
      "Overall Accuracy Group with S=0 : 0.83051\n",
      "Overall Accuracy Group S=1 : 0.74486\n",
      "\n",
      "\n",
      "Treatment Equality Difference : 56.19102\n",
      "Treatment Equality Group with S=0 : 251.57812\n",
      "Treatment Equality Group S=1 : 195.38710\n",
      "\n",
      "\n",
      "Accuracy : 0.79366\n"
     ]
    }
   ],
   "source": [
    "# Test the second FAIR model: CustomGNN, FAIR cross-entropy loss\n",
    "print(\"Here are the values for the CustomGNN model with the FAIR standard cross-entropy loss: \")\n",
    "\n",
    "metrics_custom_gnn_model_2 = test(custom_gnn_model_2, data)\n",
    "\n",
    "print_metrics(metrics_custom_gnn_model_2)"
   ]
  },
  {
   "cell_type": "markdown",
   "metadata": {},
   "source": [
    "### Third FAIR Model\n",
    "\n",
    "This model is an instantiation of the `custom_GCN` using the fair cross-entropy loss using ONLY large treatment equality penalty."
   ]
  },
  {
   "cell_type": "code",
   "execution_count": 56,
   "metadata": {},
   "outputs": [
    {
     "name": "stdout",
     "output_type": "stream",
     "text": [
      "Epoch 0 | Loss: 0.4166160225868225\n",
      "Epoch 10 | Loss: 0.4148714542388916\n",
      "Epoch 20 | Loss: 0.4131791591644287\n",
      "Epoch 30 | Loss: 0.41099512577056885\n",
      "Epoch 40 | Loss: 0.4082064926624298\n"
     ]
    }
   ],
   "source": [
    "custom_gnn_model_3 = custom_GCN(data)\n",
    "optimizer_custom_gnn_model_3 = torch.optim.Adam(custom_gnn_model_3.parameters(), lr=0.01)\n",
    "\n",
    "fairness=True\n",
    "alpha, beta, gamma, delta = 0, 0.4, 0, 0\n",
    "\n",
    "# Train the model: Custom MP GNN, FAIR cross-entropy loss\n",
    "training(model=custom_gnn_model_3, \n",
    "         data=data, \n",
    "         optimizer=optimizer_custom_gnn_model_3, \n",
    "         fairness=fairness, \n",
    "         alpha=alpha, \n",
    "         beta=beta, \n",
    "         gamma=gamma, \n",
    "         delta=delta, \n",
    "         epochs=50)"
   ]
  },
  {
   "cell_type": "code",
   "execution_count": 57,
   "metadata": {},
   "outputs": [
    {
     "name": "stdout",
     "output_type": "stream",
     "text": [
      "Here are the values for the CustomGNN model with the FAIR standard cross-entropy loss with LARGE TE penalty: \n",
      "Statistical Parity Difference : 0.01069\n",
      "Statistical Parity Group with S=0 : 0.02339\n",
      "Statistical Parity Group S=1 : 0.03409\n",
      "\n",
      "\n",
      "Equal Opportunity Difference : 0.00013\n",
      "Equal Opportunity Group with S=0 : 0.10997\n",
      "Equal Opportunity Group S=1 : 0.10984\n",
      "\n",
      "\n",
      "Overall Accuracy Equality Difference : 0.08737\n",
      "Overall Accuracy Group with S=0 : 0.81232\n",
      "Overall Accuracy Group S=1 : 0.72495\n",
      "\n",
      "\n",
      "Treatment Equality Difference : 827.11365\n",
      "Treatment Equality Group with S=0 : 812.63635\n",
      "Treatment Equality Group S=1 : 1639.75000\n",
      "\n",
      "\n",
      "Accuracy : 0.77486\n"
     ]
    }
   ],
   "source": [
    "# Test the third FAIR model: CustomGNN, FAIR cross-entropy loss with LARGE TE penalty\n",
    "print(\"Here are the values for the CustomGNN model with the FAIR standard cross-entropy loss with LARGE TE penalty: \")\n",
    "\n",
    "metrics_custom_gnn_model_3 = test(custom_gnn_model_3, data)\n",
    "\n",
    "print_metrics(metrics_custom_gnn_model_3)"
   ]
  },
  {
   "cell_type": "markdown",
   "metadata": {},
   "source": [
    "### Fourth Fair Model\n",
    "\n",
    "This model is going to use a different custom_GCN model, normal CE loss"
   ]
  },
  {
   "cell_type": "code",
   "execution_count": 8,
   "metadata": {},
   "outputs": [],
   "source": [
    "# class CustomCELoss(nn.Module):\n",
    "#     def __init__(self, sensitive_attr_weight=0.0):\n",
    "#         super(CustomCELoss, self).__init__()\n",
    "#         self.sensitive_attr_weight = sensitive_attr_weight\n",
    "#         self.ce_loss = nn.CrossEntropyLoss()\n",
    "\n",
    "#     def forward(self, input, target, sensitive_attr):\n",
    "#         ce_loss = self.ce_loss(input, target)\n",
    "#         reg_loss = self.sensitive_attr_weight * torch.mean(torch.abs(sensitive_attr))\n",
    "#         total_loss = ce_loss + reg_loss\n",
    "#         return total_loss\n",
    "    \n",
    "class CustomCELoss(nn.Module):\n",
    "    def __init__(self, sensitive_attr_weight=0.0):\n",
    "        super(CustomCELoss, self).__init__()\n",
    "        self.sensitive_attr_weight = sensitive_attr_weight\n",
    "        self.ce_loss = nn.CrossEntropyLoss()\n",
    "\n",
    "    def forward(self, input, target, sensitive_attr):\n",
    "        ce_loss = self.ce_loss(input, target)\n",
    "        reg_loss = self.sensitive_attr_weight * torch.mean(torch.abs(sensitive_attr - 0.5))\n",
    "        total_loss = ce_loss + reg_loss\n",
    "        return total_loss\n",
    "    "
   ]
  },
  {
   "cell_type": "code",
   "execution_count": 18,
   "metadata": {},
   "outputs": [],
   "source": [
    "sensitive_attribute = torch.tensor(user_labels['bin_age'].values, dtype=torch.long)\n",
    "sensitive_attribute = sensitive_attribute.float()"
   ]
  },
  {
   "cell_type": "code",
   "execution_count": 22,
   "metadata": {},
   "outputs": [
    {
     "name": "stdout",
     "output_type": "stream",
     "text": [
      "tensor([0., 1., 1.,  ..., 1., 1., 0.])\n",
      "tensor([0., 1., 1.,  ..., 1., 0., 0.])\n",
      "0.5527379722384439\n"
     ]
    }
   ],
   "source": [
    "print(sensitive_attribute[data.train_mask])\n",
    "\n",
    "print(data.x[data.train_mask, -1])\n",
    "\n",
    "# calculate percentage of equal entries in the sensitive attribute and data.x\n",
    "print(sensitive_attribute[data.train_mask].eq(data.x[data.train_mask, -1]).sum().item() / int(data.train_mask.sum()))"
   ]
  },
  {
   "cell_type": "code",
   "execution_count": 15,
   "metadata": {},
   "outputs": [],
   "source": [
    "# Train the model with customCE loss\n",
    "def training_customCE(model, data, optimizer, epochs, sensitive_attr_weight):\n",
    "    criterion = CustomCELoss(sensitive_attr_weight=sensitive_attr_weight)\n",
    "\n",
    "    for epoch in range(epochs):\n",
    "        model.train()\n",
    "        optimizer.zero_grad()\n",
    "        out = model(data)\n",
    "        # loss = criterion(out[data.train_mask], data.y[data.train_mask], data.x[data.train_mask, -1])\n",
    "        loss = criterion(out[data.train_mask], data.y[data.train_mask], sensitive_attribute[data.train_mask])\n",
    "        loss.backward()\n",
    "        optimizer.step()\n",
    "\n",
    "        if epoch % 10 == 0:\n",
    "            print(f'Epoch {epoch} | Loss: {loss.item()}')\n"
   ]
  },
  {
   "cell_type": "code",
   "execution_count": 27,
   "metadata": {},
   "outputs": [
    {
     "name": "stdout",
     "output_type": "stream",
     "text": [
      "Epoch 0 | Loss: 0.6968374848365784\n",
      "Epoch 10 | Loss: 0.6945965886116028\n",
      "Epoch 20 | Loss: 0.6928642988204956\n",
      "Epoch 30 | Loss: 0.6906540989875793\n",
      "Epoch 40 | Loss: 0.6872914433479309\n"
     ]
    }
   ],
   "source": [
    "custom_gnn_model_4 = custom_GCN(data)\n",
    "optimizer_custom_gnn_model_4 = torch.optim.Adam(custom_gnn_model_4.parameters(), lr=0.01)\n",
    "\n",
    "sensitive_attr_weight = 0.01\n",
    "\n",
    "# Train the model: Custom MP GNN, custom cross-entropy loss\n",
    "training_customCE(model=custom_gnn_model_4, \n",
    "                  data=data, \n",
    "                  optimizer=optimizer_custom_gnn_model_4, \n",
    "                  epochs=50, \n",
    "                  sensitive_attr_weight=sensitive_attr_weight)"
   ]
  },
  {
   "cell_type": "code",
   "execution_count": 28,
   "metadata": {},
   "outputs": [
    {
     "name": "stdout",
     "output_type": "stream",
     "text": [
      "Here are the values for the CustomGNN model with the custom cross-entropy loss: \n"
     ]
    },
    {
     "name": "stdout",
     "output_type": "stream",
     "text": [
      "Statistical Parity Difference : 0.00362\n",
      "Statistical Parity Group with S=0 : 0.00685\n",
      "Statistical Parity Group S=1 : 0.01046\n",
      "\n",
      "\n",
      "Equal Opportunity Difference : 0.00152\n",
      "Equal Opportunity Group with S=0 : 0.03236\n",
      "Equal Opportunity Group S=1 : 0.03388\n",
      "\n",
      "\n",
      "Overall Accuracy Equality Difference : 0.09451\n",
      "Overall Accuracy Group with S=0 : 0.79617\n",
      "Overall Accuracy Group S=1 : 0.70166\n",
      "\n",
      "\n",
      "Treatment Equality Difference : inf\n",
      "Treatment Equality Group with S=0 : 6479.00000\n",
      "Treatment Equality Group S=1 : inf\n",
      "\n",
      "\n",
      "Accuracy : 0.75545\n"
     ]
    }
   ],
   "source": [
    "# Test the fourth FAIR model: CustomGNN, custom cross-entropy loss\n",
    "print(\"Here are the values for the CustomGNN model with the custom cross-entropy loss: \")\n",
    "\n",
    "metrics_custom_gnn_model_4 = test(custom_gnn_model_4, data)\n",
    "\n",
    "print_metrics(metrics_custom_gnn_model_4)"
   ]
  },
  {
   "cell_type": "markdown",
   "metadata": {},
   "source": [
    "## Attention-based Message Passing\n",
    "\n",
    "In this section, the models are trained using a custom attention-based message passing model.  \n",
    "This custom attention should take the sensitive attribute into consideration when calculating the attention weights."
   ]
  },
  {
   "cell_type": "code",
   "execution_count": 8,
   "metadata": {},
   "outputs": [],
   "source": [
    "from torch_geometric.nn import GATConv"
   ]
  },
  {
   "cell_type": "markdown",
   "metadata": {},
   "source": [
    "### Baseline GAT Models"
   ]
  },
  {
   "cell_type": "code",
   "execution_count": 11,
   "metadata": {},
   "outputs": [],
   "source": [
    "# GAT class that takes in the data as an input for dimensions of the convolutions\n",
    "class GAT(torch.nn.Module):\n",
    "    def __init__(self, data):\n",
    "        super(GAT, self).__init__()\n",
    "        self.conv1 = GATConv(data.num_node_features, 16)\n",
    "        self.conv2 = GATConv(16, 2) # 2 output classes for gender\n",
    "\n",
    "    def forward(self, data):\n",
    "        x, edge_index = data.x, data.edge_index\n",
    "        x = F.relu(self.conv1(x, edge_index))\n",
    "        x = self.conv2(x, edge_index)\n",
    "        return F.log_softmax(x, dim=1)"
   ]
  },
  {
   "cell_type": "code",
   "execution_count": 12,
   "metadata": {},
   "outputs": [],
   "source": [
    "# Instantiate the model, define loss function and optimizer\n",
    "gat_model = GAT(data)\n",
    "gat_optimizer = torch.optim.Adam(gat_model.parameters(), lr=0.01)"
   ]
  },
  {
   "cell_type": "code",
   "execution_count": 13,
   "metadata": {},
   "outputs": [
    {
     "name": "stdout",
     "output_type": "stream",
     "text": [
      "Epoch 0 | Loss: 1.243209719657898\n",
      "Epoch 10 | Loss: 0.6583862900733948\n",
      "Epoch 20 | Loss: 0.5705628991127014\n",
      "Epoch 30 | Loss: 0.5451962947845459\n",
      "Epoch 40 | Loss: 0.5258474946022034\n"
     ]
    }
   ],
   "source": [
    "training(model=gat_model, data=data, optimizer=gat_optimizer, epochs=50)"
   ]
  },
  {
   "cell_type": "code",
   "execution_count": 14,
   "metadata": {},
   "outputs": [
    {
     "name": "stdout",
     "output_type": "stream",
     "text": [
      "Here are the values for the standard GAT model with the standard cross-entropy loss: \n",
      "Statistical Parity Difference : 0.00537\n",
      "Statistical Parity Group with S=0 : 0.00704\n",
      "Statistical Parity Group S=1 : 0.01241\n",
      "\n",
      "\n",
      "Equal Opportunity Difference : 0.00406\n",
      "Equal Opportunity Group with S=0 : 0.02932\n",
      "Equal Opportunity Group S=1 : 0.03339\n",
      "\n",
      "\n",
      "Overall Accuracy Equality Difference : 0.09529\n",
      "Overall Accuracy Group with S=0 : 0.79471\n",
      "Overall Accuracy Group S=1 : 0.69941\n",
      "\n",
      "\n",
      "Treatment Equality Difference : 95.33382\n",
      "Treatment Equality Group with S=0 : 237.78049\n",
      "Treatment Equality Group S=1 : 142.44667\n",
      "\n",
      "\n",
      "Accuracy : 0.75287\n"
     ]
    }
   ],
   "source": [
    "# Test the first model: GAT, standard data, cross-entropy loss\n",
    "print(\"Here are the values for the standard GAT model with the standard cross-entropy loss: \")\n",
    "\n",
    "metrics_base_gat_model = test(gat_model, data)\n",
    "\n",
    "print_metrics(metrics_base_gat_model)"
   ]
  },
  {
   "cell_type": "markdown",
   "metadata": {},
   "source": [
    "Statistical Parity Difference : 0.00372\n",
    "Statistical Parity Group with S=0 : 0.00472\n",
    "Statistical Parity Group S=1 : 0.00844\n",
    "\n",
    "\n",
    "Equal Opportunity Difference : 0.00493\n",
    "Equal Opportunity Group with S=0 : 0.02235\n",
    "Equal Opportunity Group S=1 : 0.02728\n",
    "\n",
    "\n",
    "Overall Accuracy Equality Difference : 0.09448\n",
    "Overall Accuracy Group with S=0 : 0.79409\n",
    "Overall Accuracy Group S=1 : 0.69961\n",
    "\n",
    "\n",
    "Treatment Equality Difference : 1864.00000\n",
    "Treatment Equality Group with S=0 : 19638.00000\n",
    "Treatment Equality Group S=1 : 21502.00000\n",
    "\n",
    "\n",
    "Accuracy : 0.75335"
   ]
  },
  {
   "cell_type": "markdown",
   "metadata": {},
   "source": [
    "### FairMP GAT Models"
   ]
  },
  {
   "cell_type": "code",
   "execution_count": 11,
   "metadata": {},
   "outputs": [],
   "source": [
    "import torch\n",
    "import torch.nn as nn\n",
    "from torch_geometric.nn import MessagePassing\n",
    "from torch_geometric.utils import add_self_loops\n",
    "\n",
    "class Attention_FairMessagePassing(MessagePassing):\n",
    "    def __init__(self, in_channels, out_channels):\n",
    "        super(Attention_FairMessagePassing, self).__init__(aggr='mean')\n",
    "        self.lin = nn.Linear(in_channels, out_channels)\n",
    "        self.att = nn.Linear(out_channels, 1)\n",
    "        self.sensitive_attr = torch.tensor(user_labels['bin_age'].values, dtype=torch.float)\n",
    "        self.bias_correction = nn.Parameter(torch.rand(1))\n",
    "\n",
    "    def forward(self, x, edge_index):\n",
    "        # Add self-loops\n",
    "        edge_index, _ = add_self_loops(edge_index, num_nodes=x.size(0))\n",
    "\n",
    "        x = self.lin(x)\n",
    "        x = self.propagate(edge_index, size=(x.size(0), x.size(0)), x=x)\n",
    "\n",
    "        return x\n",
    "\n",
    "    def message(self, x_i, x_j):\n",
    "        # Calculate attention weights\n",
    "        alpha = self.att(torch.abs(x_i - x_j))\n",
    "        alpha = torch.exp(alpha) / (torch.exp(alpha).sum(dim=1, keepdim=True) + self.bias_correction)\n",
    "\n",
    "        # Apply attention weights to messages\n",
    "        return x_j * alpha\n",
    "\n",
    "    def update(self, aggr_out):\n",
    "        return aggr_out\n"
   ]
  },
  {
   "cell_type": "code",
   "execution_count": 12,
   "metadata": {},
   "outputs": [],
   "source": [
    "# GAT class that takes in the data as an input for dimensions of the convolutions\n",
    "class CustomGAT(torch.nn.Module):\n",
    "    def __init__(self, data):\n",
    "        super(CustomGAT, self).__init__()\n",
    "        self.conv1 = Attention_FairMessagePassing(data.num_node_features, 16)\n",
    "        self.conv2 = Attention_FairMessagePassing(16, 2) # 2 output classes for gender\n",
    "\n",
    "    def forward(self, data):\n",
    "        x, edge_index = data.x, data.edge_index\n",
    "        x = F.relu(self.conv1(x, edge_index))\n",
    "        x = self.conv2(x, edge_index)\n",
    "        return F.log_softmax(x, dim=1)"
   ]
  },
  {
   "cell_type": "markdown",
   "metadata": {},
   "source": [
    "#### First Fair GAT"
   ]
  },
  {
   "cell_type": "code",
   "execution_count": 21,
   "metadata": {},
   "outputs": [],
   "source": [
    "# Instantiate the model, define loss function and optimizer\n",
    "custom_gat_model = CustomGAT(data)\n",
    "custom_gat_optimizer = torch.optim.Adam(custom_gat_model.parameters(), lr=0.01)"
   ]
  },
  {
   "cell_type": "code",
   "execution_count": 22,
   "metadata": {},
   "outputs": [
    {
     "name": "stdout",
     "output_type": "stream",
     "text": [
      "Epoch 0 | Loss: 0.7300261855125427\n",
      "Epoch 10 | Loss: 0.5912700891494751\n",
      "Epoch 20 | Loss: 0.5659604668617249\n",
      "Epoch 30 | Loss: 0.5476182103157043\n",
      "Epoch 40 | Loss: 0.5287064909934998\n"
     ]
    }
   ],
   "source": [
    "training(model=custom_gat_model, data=data, optimizer=custom_gat_optimizer, epochs=50)"
   ]
  },
  {
   "cell_type": "code",
   "execution_count": 23,
   "metadata": {},
   "outputs": [
    {
     "name": "stdout",
     "output_type": "stream",
     "text": [
      "Here are the values for the CustomGAT model with the standard cross-entropy loss: \n",
      "Statistical Parity Difference : 0.00372\n",
      "Statistical Parity Group with S=0 : 0.00472\n",
      "Statistical Parity Group S=1 : 0.00844\n",
      "\n",
      "\n",
      "Equal Opportunity Difference : 0.00493\n",
      "Equal Opportunity Group with S=0 : 0.02235\n",
      "Equal Opportunity Group S=1 : 0.02728\n",
      "\n",
      "\n",
      "Overall Accuracy Equality Difference : 0.09448\n",
      "Overall Accuracy Group with S=0 : 0.79409\n",
      "Overall Accuracy Group S=1 : 0.69961\n",
      "\n",
      "\n",
      "Treatment Equality Difference : 1864.00000\n",
      "Treatment Equality Group with S=0 : 19638.00000\n",
      "Treatment Equality Group S=1 : 21502.00000\n",
      "\n",
      "\n",
      "Accuracy : 0.75335\n"
     ]
    }
   ],
   "source": [
    "# Test the first model: CustomGAT, standard data, cross-entropy loss\n",
    "print(\"Here are the values for the CustomGAT model with the standard cross-entropy loss: \")\n",
    "\n",
    "metrics_custom_gat_model = test(custom_gat_model, data)\n",
    "\n",
    "print_metrics(metrics_custom_gat_model)"
   ]
  },
  {
   "cell_type": "markdown",
   "metadata": {},
   "source": [
    "#### Second Fair GAT"
   ]
  },
  {
   "cell_type": "code",
   "execution_count": 13,
   "metadata": {},
   "outputs": [],
   "source": [
    "# Instantiate the model, define loss function and optimizer\n",
    "custom_gat_model_2 = CustomGAT(data)\n",
    "custom_gat_optimizer_2 = torch.optim.Adam(custom_gat_model_2.parameters(), lr=0.01)"
   ]
  },
  {
   "cell_type": "code",
   "execution_count": 14,
   "metadata": {},
   "outputs": [
    {
     "name": "stdout",
     "output_type": "stream",
     "text": [
      "Epoch 0 | Loss: 0.7302701473236084\n",
      "Epoch 10 | Loss: 0.5995766520500183\n",
      "Epoch 20 | Loss: 0.512322187423706\n",
      "Epoch 30 | Loss: 0.48978760838508606\n",
      "Epoch 40 | Loss: 0.46570953726768494\n"
     ]
    }
   ],
   "source": [
    "training(model=custom_gat_model_2, data=data, optimizer=custom_gat_optimizer_2, fairness=True, beta=0.1, epochs=50)"
   ]
  },
  {
   "cell_type": "code",
   "execution_count": 15,
   "metadata": {},
   "outputs": [
    {
     "name": "stdout",
     "output_type": "stream",
     "text": [
      "Here are the values for the CustomGAT model with the FAIR cross-entropy loss: \n",
      "Statistical Parity Difference : 0.01193\n",
      "Statistical Parity Group with S=0 : 0.02863\n",
      "Statistical Parity Group S=1 : 0.04057\n",
      "\n",
      "\n",
      "Equal Opportunity Difference : 0.00700\n",
      "Equal Opportunity Group with S=0 : 0.13417\n",
      "Equal Opportunity Group S=1 : 0.12717\n",
      "\n",
      "\n",
      "Overall Accuracy Equality Difference : 0.08810\n",
      "Overall Accuracy Group with S=0 : 0.81727\n",
      "Overall Accuracy Group S=1 : 0.72917\n",
      "\n",
      "\n",
      "Treatment Equality Difference : 275.64874\n",
      "Treatment Equality Group with S=0 : 483.11111\n",
      "Treatment Equality Group S=1 : 207.46237\n",
      "\n",
      "\n",
      "Accuracy : 0.77851\n"
     ]
    }
   ],
   "source": [
    "# Test the second model: CustomGAT, FAIR cross-entropy loss\n",
    "print(\"Here are the values for the CustomGAT model with the FAIR cross-entropy loss: \")\n",
    "\n",
    "metrics_custom_gat_model_2 = test(custom_gat_model_2, data)\n",
    "\n",
    "print_metrics(metrics_custom_gat_model_2)"
   ]
  },
  {
   "cell_type": "code",
   "execution_count": null,
   "metadata": {},
   "outputs": [],
   "source": []
  }
 ],
 "metadata": {
  "kernelspec": {
   "display_name": "Python 3",
   "language": "python",
   "name": "python3"
  },
  "language_info": {
   "codemirror_mode": {
    "name": "ipython",
    "version": 3
   },
   "file_extension": ".py",
   "mimetype": "text/x-python",
   "name": "python",
   "nbconvert_exporter": "python",
   "pygments_lexer": "ipython3",
   "version": "3.11.5"
  }
 },
 "nbformat": 4,
 "nbformat_minor": 2
}
